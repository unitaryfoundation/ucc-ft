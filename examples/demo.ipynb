{
 "cells": [
  {
   "cell_type": "code",
   "execution_count": 1,
   "id": "02d9a7f6",
   "metadata": {},
   "outputs": [
    {
     "name": "stdout",
     "output_type": "stream",
     "text": [
      "Detected IPython. Loading juliacall extension. See https://juliapy.github.io/PythonCall.jl/stable/compat/#IPython\n"
     ]
    }
   ],
   "source": [
    "from ucc_ft.surface_code import RotatedSurfaceCode\n",
    "from ucc_ft.checker import ft_check_ideal_qasm"
   ]
  },
  {
   "cell_type": "markdown",
   "id": "4d4959ca",
   "metadata": {},
   "source": [
    "This notebook demonstrates how `ucc-ft` is used to verify the fault tolerance of a circuit. It focuses on the the rotated surface code for d=3"
   ]
  },
  {
   "cell_type": "code",
   "execution_count": 2,
   "id": "8ec3f0cd",
   "metadata": {},
   "outputs": [
    {
     "data": {
      "text/plain": [
       "[stim.PauliString(\"+ZZ\"),\n",
       " stim.PauliString(\"+___X__X\"),\n",
       " stim.PauliString(\"+_ZZ_ZZ\"),\n",
       " stim.PauliString(\"+XX_XX\"),\n",
       " stim.PauliString(\"+___ZZ_ZZ\"),\n",
       " stim.PauliString(\"+____XX_XX\"),\n",
       " stim.PauliString(\"+_______ZZ\"),\n",
       " stim.PauliString(\"+__X__X\")]"
      ]
     },
     "execution_count": 2,
     "metadata": {},
     "output_type": "execute_result"
    }
   ],
   "source": [
    "# d= 3 code, show the stabilizers for reference\n",
    "sc = RotatedSurfaceCode(3)\n",
    "sc.stabilizers()"
   ]
  },
  {
   "cell_type": "markdown",
   "id": "cb86d909",
   "metadata": {},
   "source": [
    "Let's start by checking the CNOT gate for this code, which is just implemented transversally.\n",
    "\n",
    "First, let's load the QASM for that gate:"
   ]
  },
  {
   "cell_type": "code",
   "execution_count": 3,
   "id": "7589c89a",
   "metadata": {},
   "outputs": [],
   "source": [
    "cnot_circuit = \"\"\"\n",
    "    OPENQASM 3.0;\n",
    "    include \"stdgates.inc\";\n",
    "\n",
    "    const uint d = 3;\n",
    "    const uint data_size = d * d;\n",
    "    qubit[data_size] state1;\n",
    "    qubit[data_size] state2;\n",
    "\n",
    "    def logical_CNOT() {\n",
    "        // QASM ranges are inclusive for both start and end\n",
    "        for int i in [0:(data_size-1)] {\n",
    "            cx state1[i], state2[i];\n",
    "        }\n",
    "    }\n",
    "    \"\"\""
   ]
  },
  {
   "cell_type": "markdown",
   "id": "e39cd354",
   "metadata": {},
   "source": [
    "Now run the checker on that gate for this code:"
   ]
  },
  {
   "cell_type": "code",
   "execution_count": 4,
   "id": "e8413e19",
   "metadata": {},
   "outputs": [
    {
     "name": "stdout",
     "output_type": "stream",
     "text": [
      "shape: (18, 36)\n",
      "shape: (18, 36)\n",
      ">>> Pass!\n",
      ">>> Pass!\n"
     ]
    },
    {
     "name": "stderr",
     "output_type": "stream",
     "text": [
      "[ Info: '`bitwuzla -rwl 1`' is used as smt solver for FT_condition case\n",
      "[ Info: '`bitwuzla -rwl 1`' has solved the problem\n",
      "[ Info: '`bitwuzla -rwl 1`' is used as smt solver for FT_condition case\n",
      "[ Info: '`bitwuzla -rwl 1`' has solved the problem\n"
     ]
    },
    {
     "data": {
      "text/plain": [
       "True"
      ]
     },
     "execution_count": 4,
     "metadata": {},
     "output_type": "execute_result"
    }
   ],
   "source": [
    "ft_check_ideal_qasm(sc, cnot_circuit, \"logical_CNOT\", \"gate\")"
   ]
  },
  {
   "cell_type": "markdown",
   "id": "e0afac2b",
   "metadata": {},
   "source": [
    "A more complicated example is state preparation. For state preparation, we follow the Shor method, where the stabilizers are repeatedly measured, and then once the outcome stabilized, we apply a correciton get get back to the logical 0 state.\n",
    "\n",
    "First, load the [QASM](../test/rotated_surface_code.qasm). Note that it has some `extern` functions for classical components. One is for rotating indicies into the stabilizer code. A more complex one is `mwpm_full` which represents the minimum weigh-perfect matching function used to diagnose the errors. For checking, we don't actually run the algorithm, but this function does act as an oracle and sets constraints on the classical symbolic variables to reflect the act of correcting."
   ]
  },
  {
   "cell_type": "code",
   "execution_count": 5,
   "id": "88e135eb",
   "metadata": {},
   "outputs": [],
   "source": [
    "qasm_prep = open(\"../test/rotated_surface_code.qasm\").read()"
   ]
  },
  {
   "cell_type": "markdown",
   "id": "24daa22c",
   "metadata": {},
   "source": [
    "To check the fault-tolerance belwo, there's a little more work involved, because these `extern` functions are defined in a separate Julia file. This also shows a bit more of the pipeline, where the QASM is converted into a `@qprog`, which is the embedded DSL in Julia the authors use to represent a quantum circuit. It is converted using "
   ]
  },
  {
   "cell_type": "code",
   "execution_count": 6,
   "id": "c0ab1d3e",
   "metadata": {},
   "outputs": [
    {
     "name": "stdout",
     "output_type": "stream",
     "text": [
      "shape: (9, 18)\n",
      "shape: (9, 18)\n",
      ">>> Pass!\n"
     ]
    },
    {
     "name": "stderr",
     "output_type": "stream",
     "text": [
      "[ Info: '`bitwuzla -rwl 1`' is used as smt solver for FT_condition case\n",
      "[ Info: '`bitwuzla -rwl 1`' has solved the problem\n"
     ]
    },
    {
     "data": {
      "text/plain": [
       "True"
      ]
     },
     "execution_count": 6,
     "metadata": {},
     "output_type": "execute_result"
    }
   ],
   "source": [
    "from ucc_ft.checker import qasm_to_qprog_source, julia_source_to_qprog, ft_check_ideal\n",
    "\n",
    "qprog_src = qasm_to_qprog_source(qasm_prep)\n",
    "\n",
    "julia_source = open(\"../test/rotated_surface_code.in_translation.jl\").read()\n",
    "\n",
    "qprog_context = julia_source_to_qprog(\n",
    "    julia_source + \"\\n\\n\" + qprog_src,\n",
    "    [\n",
    "        \"prepare_state\",\n",
    "        \"rotated_surface_z_m\",\n",
    "        \"rotated_surface_x_m\",\n",
    "        \"rotated_surface_lz_m\",\n",
    "        \"prepare_cat\",\n",
    "        \"rotate\",\n",
    "        \"mwpm_full\",\n",
    "        \"mwpm_full_x\",\n",
    "        \"mwpm_full_z\",\n",
    "        \"_xadj\",\n",
    "        \"_zadj\",\n",
    "        \"data_size\",\n",
    "        \"cat_size\",\n",
    "        \"state\",\n",
    "        \"cat\",\n",
    "        \"verify\",\n",
    "        \"num_syndromes\",\n",
    "    ],\n",
    ")\n",
    "\n",
    "ft_check_ideal(\n",
    "    sc,\n",
    "    qprog_context.get_qprog(\"prepare_state\"),\n",
    "    qprog_context,\n",
    "    \"prepare\",\n",
    "    NERRS=12,\n",
    ")"
   ]
  },
  {
   "cell_type": "markdown",
   "id": "46f578d1",
   "metadata": {},
   "source": [
    "The conversion is done by first parsing the QASM to an Abstract Syntax Tree (AST) using `openqasm`. A custom visitor is then used to walk the AST and emit the corresponding qprog. This looks like:"
   ]
  },
  {
   "cell_type": "code",
   "execution_count": 7,
   "id": "e94cbb5a",
   "metadata": {},
   "outputs": [
    {
     "name": "stdout",
     "output_type": "stream",
     "text": [
      "__qubit_count = 0\n",
      "const d = 3;\n",
      "const data_size = (d * d);\n",
      "const cat_size = (d + 1);\n",
      "const verify_size = 1;\n",
      "const num_syndromes = ((((d * d) - 1)) ÷ 2);\n",
      "state = [i + __qubit_count for i in 1:(data_size)]\n",
      "__qubit_count += data_size;\n",
      "cat = [i + __qubit_count for i in 1:(cat_size)]\n",
      "__qubit_count += cat_size;\n",
      "verify = __qubit_count + 1 \n",
      "__qubit_count += 1;\n",
      "@qprog prepare_cat (num_cat ) begin\n",
      "\n",
      "  res = bv_val(ctx, 1, 1);\n",
      "  @repeat begin \n",
      "    INIT(cat[( 0 ) + 1 ]);\n",
      "    res = 0;\n",
      "    H(cat[( 0 ) + 1 ]);\n",
      "    for i in (1):((num_cat - 1)) \n",
      "      INIT(cat[( i ) + 1 ]);\n",
      "      CNOT(cat[( 0 ) + 1 ], cat[( i ) + 1 ]);\n",
      "    end\n",
      "    for i in (1):((num_cat - 1)) \n",
      "      INIT(verify);\n",
      "      CNOT(cat[( (i - 1) ) + 1 ], verify);\n",
      "      CNOT(cat[( i ) + 1 ], verify);\n",
      "      tmp = DestructiveM(verify);\n",
      "      res = (res | tmp);\n",
      "    end\n",
      "  end :until (res == bv_val(ctx,0,1))\n",
      "end\n",
      "@qprog rotated_surface_z_m (idx ) begin\n",
      "\n",
      "  num_cat = 2;\n",
      "  if ((idx < (((d - 1)) ÷ 2))) \n",
      "    num_cat = 2;\n",
      "    prepare_cat(num_cat);\n",
      "    CZ(cat[( 0 ) + 1 ], state[( (2 * idx) ) + 1 ]);\n",
      "    CZ(cat[( 1 ) + 1 ], state[( ((2 * idx) + 1) ) + 1 ]);\n",
      "  end\n",
      "  if ((idx >= ((d * ((d - 1))) ÷ 2))) \n",
      "    num_cat = 2;\n",
      "    prepare_cat(num_cat);\n",
      "    CZ(cat[( 0 ) + 1 ], state[( ((2 * idx) + 1) ) + 1 ]);\n",
      "    CZ(cat[( 1 ) + 1 ], state[( (2 * ((idx + 1))) ) + 1 ]);\n",
      "  end\n",
      "  if (((idx >= (((d - 1)) ÷ 2)) && (idx < ((d * ((d - 1))) ÷ 2)))) \n",
      "    num_cat = 4;\n",
      "    prepare_cat(num_cat);\n",
      "    i = (idx ÷ ((((d - 1)) ÷ 2)));\n",
      "    j = ((((idx % ((((d - 1)) ÷ 2))) * 2) + 1) + (i % 2));\n",
      "    CZ(cat[( 0 ) + 1 ], state[( (((((i - 1)) * d) + j) - 1) ) + 1 ]);\n",
      "    CZ(cat[( 1 ) + 1 ], state[( ((((i - 1)) * d) + j) ) + 1 ]);\n",
      "    CZ(cat[( 2 ) + 1 ], state[( (((i * d) + j) - 1) ) + 1 ]);\n",
      "    CZ(cat[( 3 ) + 1 ], state[( ((i * d) + j) ) + 1 ]);\n",
      "  end\n",
      "  res = bv_val(ctx, 0, 1);\n",
      "  for c in (0):((num_cat - 1)) \n",
      "    H(cat[( c ) + 1 ]);\n",
      "    tmp = DestructiveM(cat[( c ) + 1 ]);\n",
      "    H(cat[( c ) + 1 ]);\n",
      "    res = (res ⊻ tmp);\n",
      "  end\n",
      "  return res;\n",
      "end\n",
      "@qprog rotated_surface_x_m (idx ) begin\n",
      "\n",
      "  num_cat = 2;\n",
      "  if ((idx < (((d - 1)) ÷ 2))) \n",
      "    num_cat = 2;\n",
      "    prepare_cat(num_cat);\n",
      "    CNOT(cat[( 0 ) + 1 ], state[( rotate(d, (2 * idx)) ) + 1 ]);\n",
      "    CNOT(cat[( 1 ) + 1 ], state[( rotate(d, ((2 * idx) + 1)) ) + 1 ]);\n",
      "  end\n",
      "  if ((idx >= ((d * ((d - 1))) ÷ 2))) \n",
      "    num_cat = 2;\n",
      "    prepare_cat(num_cat);\n",
      "    CNOT(cat[( 0 ) + 1 ], state[( rotate(d, ((2 * idx) + 1)) ) + 1 ]);\n",
      "    CNOT(cat[( 1 ) + 1 ], state[( rotate(d, (2 * ((idx + 1)))) ) + 1 ]);\n",
      "  end\n",
      "  if (((idx >= (((d - 1)) ÷ 2)) && (idx < ((d * ((d - 1))) ÷ 2)))) \n",
      "    num_cat = 4;\n",
      "    prepare_cat(num_cat);\n",
      "    i = (idx ÷ ((((d - 1)) ÷ 2)));\n",
      "    j = ((((idx % ((((d - 1)) ÷ 2))) * 2) + 1) + (i % 2));\n",
      "    CNOT(cat[( 0 ) + 1 ], state[( rotate(d, (((((i - 1)) * d) + j) - 1)) ) + 1 ]);\n",
      "    CNOT(cat[( 1 ) + 1 ], state[( rotate(d, ((((i - 1)) * d) + j)) ) + 1 ]);\n",
      "    CNOT(cat[( 2 ) + 1 ], state[( rotate(d, (((i * d) + j) - 1)) ) + 1 ]);\n",
      "    CNOT(cat[( 3 ) + 1 ], state[( rotate(d, ((i * d) + j)) ) + 1 ]);\n",
      "  end\n",
      "  res = bv_val(ctx, 0, 1);\n",
      "  for c in (0):((num_cat - 1)) \n",
      "    H(cat[( c ) + 1 ]);\n",
      "    tmp = DestructiveM(cat[( c ) + 1 ]);\n",
      "    H(cat[( c ) + 1 ]);\n",
      "    res = (res ⊻ tmp);\n",
      "  end\n",
      "  return res;\n",
      "end\n",
      "@qprog rotated_surface_lz_m ( ) begin\n",
      "\n",
      "  prepare_cat(d);\n",
      "  for i in (0):((d - 1)) \n",
      "    CZ(cat[( i ) + 1 ], state[( ((((d * (((2 * i) + 1))) - 1)) ÷ 2) ) + 1 ]);\n",
      "  end\n",
      "  res = bv_val(ctx, 0, 1);\n",
      "  for c in (0):((d - 1)) \n",
      "    H(cat[( c ) + 1 ]);\n",
      "    tmp = DestructiveM(cat[( c ) + 1 ]);\n",
      "    H(cat[( c ) + 1 ]);\n",
      "    res = (res ⊻ tmp);\n",
      "  end\n",
      "  return res;\n",
      "end\n",
      "@qprog prepare_state ( ) begin\n",
      "\n",
      "  for i in (0):((data_size - 1)) \n",
      "    INIT(state[( i ) + 1 ]);\n",
      "  end\n",
      "  t = ((((d - 1)) ÷ 2) + 1);\n",
      "  res = bv_val(ctx, 1, 1);\n",
      "  s_x = Vector{Z3.Expr}(undef, num_syndromes );\n",
      "  s_z = Vector{Z3.Expr}(undef, num_syndromes );\n",
      "  s_lz = bv_val(ctx, 0, 1);\n",
      "  @repeat begin \n",
      "    res = 0;\n",
      "    for round in (0):((t - 1)) \n",
      "      for j in (0):((num_syndromes - 1)) \n",
      "        m_x = rotated_surface_x_m(j);\n",
      "        m_z = rotated_surface_z_m(j);\n",
      "        if ((round > 0)) \n",
      "          res = ((res | (m_x ⊻ s_x[( j ) + 1 ])) | (m_z ⊻ s_z[( j ) + 1 ]));\n",
      "        end\n",
      "        s_x[( j ) + 1 ] = m_x;\n",
      "        s_z[( j ) + 1 ] = m_z;\n",
      "      end\n",
      "      m_lz = rotated_surface_lz_m();\n",
      "      if ((round > 0)) \n",
      "        res = (res | (m_lz ⊻ s_lz));\n",
      "      end\n",
      "      s_lz = m_lz;\n",
      "    end\n",
      "  end :until (res == bv_val(ctx,0,1))\n",
      "  r_x = mwpm_full_x(ctx, d, s_x);\n",
      "  r_z = mwpm_full_z(ctx, d, s_z, s_lz);\n",
      "  for i in (0):((data_size - 1)) \n",
      "    sZ(state[( i ) + 1 ] , r_x[( i ) + 1 ])\n",
      "    sX(state[( i ) + 1 ] , r_z[( i ) + 1 ])\n",
      "  end\n",
      "  for i in (0):((cat_size - 1)) \n",
      "    INIT(cat[( i ) + 1 ]);\n",
      "  end\n",
      "  INIT(verify);\n",
      "end\n",
      "\n"
     ]
    }
   ],
   "source": [
    "print(qprog_src)"
   ]
  },
  {
   "cell_type": "markdown",
   "id": "20fcd1e5",
   "metadata": {},
   "source": [
    "### Appendix - QASM Challenges\n",
    "\n",
    "This section is just to demo that the QASM code is valid QASM3 using the reference parser, but is currently unsupported by qiskit/pyqasm"
   ]
  },
  {
   "cell_type": "code",
   "execution_count": 8,
   "id": "2c9f7436",
   "metadata": {},
   "outputs": [],
   "source": [
    "import openqasm3\n",
    "\n",
    "openqasm3.parse(qasm_prep);"
   ]
  },
  {
   "cell_type": "code",
   "execution_count": 9,
   "id": "2fc09ce3",
   "metadata": {},
   "outputs": [
    {
     "name": "stderr",
     "output_type": "stream",
     "text": [
      "ERROR:pyqasm: Error at line 50, column 0 in QASM file\n",
      "\n",
      " >>>>>> extern mwpm_full_x(uint, bit[num_syndromes]) -> bit[data_size];\n",
      "\n",
      "\n"
     ]
    },
    {
     "ename": "ValidationError",
     "evalue": "Unsupported statement of type <class 'openqasm3.ast.ExternDeclaration'>",
     "output_type": "error",
     "traceback": [
      "\u001b[31m---------------------------------------------------------------------------\u001b[39m",
      "\u001b[31mValidationError\u001b[39m                           Traceback (most recent call last)",
      "\u001b[36mCell\u001b[39m\u001b[36m \u001b[39m\u001b[32mIn[9]\u001b[39m\u001b[32m, line 4\u001b[39m\n\u001b[32m      1\u001b[39m \u001b[38;5;28;01mimport\u001b[39;00m\u001b[38;5;250m \u001b[39m\u001b[34;01mpyqasm\u001b[39;00m\n\u001b[32m      3\u001b[39m module = pyqasm.loads(qasm_prep)\n\u001b[32m----> \u001b[39m\u001b[32m4\u001b[39m \u001b[43mmodule\u001b[49m\u001b[43m.\u001b[49m\u001b[43mvalidate\u001b[49m\u001b[43m(\u001b[49m\u001b[43m)\u001b[49m\n",
      "\u001b[36mFile \u001b[39m\u001b[32m~/code/ucc-ft/.venv/lib/python3.12/site-packages/pyqasm/modules/base.py:517\u001b[39m, in \u001b[36mQasmModule.validate\u001b[39m\u001b[34m(self)\u001b[39m\n\u001b[32m    515\u001b[39m \u001b[38;5;28;01mexcept\u001b[39;00m (ValidationError, \u001b[38;5;167;01mNotImplementedError\u001b[39;00m) \u001b[38;5;28;01mas\u001b[39;00m err:\n\u001b[32m    516\u001b[39m     \u001b[38;5;28mself\u001b[39m.num_qubits, \u001b[38;5;28mself\u001b[39m.num_clbits = -\u001b[32m1\u001b[39m, -\u001b[32m1\u001b[39m\n\u001b[32m--> \u001b[39m\u001b[32m517\u001b[39m     \u001b[38;5;28;01mraise\u001b[39;00m err\n\u001b[32m    518\u001b[39m \u001b[38;5;28mself\u001b[39m._validated_program = \u001b[38;5;28;01mTrue\u001b[39;00m\n",
      "\u001b[36mFile \u001b[39m\u001b[32m~/code/ucc-ft/.venv/lib/python3.12/site-packages/pyqasm/modules/base.py:514\u001b[39m, in \u001b[36mQasmModule.validate\u001b[39m\u001b[34m(self)\u001b[39m\n\u001b[32m    512\u001b[39m     \u001b[38;5;28mself\u001b[39m.num_qubits, \u001b[38;5;28mself\u001b[39m.num_clbits = \u001b[32m0\u001b[39m, \u001b[32m0\u001b[39m\n\u001b[32m    513\u001b[39m     visitor = QasmVisitor(\u001b[38;5;28mself\u001b[39m, check_only=\u001b[38;5;28;01mTrue\u001b[39;00m)\n\u001b[32m--> \u001b[39m\u001b[32m514\u001b[39m     \u001b[38;5;28;43mself\u001b[39;49m\u001b[43m.\u001b[49m\u001b[43maccept\u001b[49m\u001b[43m(\u001b[49m\u001b[43mvisitor\u001b[49m\u001b[43m)\u001b[49m\n\u001b[32m    515\u001b[39m \u001b[38;5;28;01mexcept\u001b[39;00m (ValidationError, \u001b[38;5;167;01mNotImplementedError\u001b[39;00m) \u001b[38;5;28;01mas\u001b[39;00m err:\n\u001b[32m    516\u001b[39m     \u001b[38;5;28mself\u001b[39m.num_qubits, \u001b[38;5;28mself\u001b[39m.num_clbits = -\u001b[32m1\u001b[39m, -\u001b[32m1\u001b[39m\n",
      "\u001b[36mFile \u001b[39m\u001b[32m~/code/ucc-ft/.venv/lib/python3.12/site-packages/pyqasm/modules/qasm3.py:51\u001b[39m, in \u001b[36mQasm3Module.accept\u001b[39m\u001b[34m(self, visitor)\u001b[39m\n\u001b[32m     45\u001b[39m \u001b[38;5;28;01mdef\u001b[39;00m\u001b[38;5;250m \u001b[39m\u001b[34maccept\u001b[39m(\u001b[38;5;28mself\u001b[39m, visitor):\n\u001b[32m     46\u001b[39m \u001b[38;5;250m    \u001b[39m\u001b[33;03m\"\"\"Accept a visitor for the module\u001b[39;00m\n\u001b[32m     47\u001b[39m \n\u001b[32m     48\u001b[39m \u001b[33;03m    Args:\u001b[39;00m\n\u001b[32m     49\u001b[39m \u001b[33;03m        visitor (QasmVisitor): The visitor to accept\u001b[39;00m\n\u001b[32m     50\u001b[39m \u001b[33;03m    \"\"\"\u001b[39;00m\n\u001b[32m---> \u001b[39m\u001b[32m51\u001b[39m     unrolled_stmt_list = \u001b[43mvisitor\u001b[49m\u001b[43m.\u001b[49m\u001b[43mvisit_basic_block\u001b[49m\u001b[43m(\u001b[49m\u001b[38;5;28;43mself\u001b[39;49m\u001b[43m.\u001b[49m\u001b[43m_statements\u001b[49m\u001b[43m)\u001b[49m\n\u001b[32m     52\u001b[39m     final_stmt_list = visitor.finalize(unrolled_stmt_list)\n\u001b[32m     54\u001b[39m     \u001b[38;5;28mself\u001b[39m._unrolled_ast.statements = final_stmt_list\n",
      "\u001b[36mFile \u001b[39m\u001b[32m~/code/ucc-ft/.venv/lib/python3.12/site-packages/pyqasm/visitor.py:2208\u001b[39m, in \u001b[36mQasmVisitor.visit_basic_block\u001b[39m\u001b[34m(self, stmt_list)\u001b[39m\n\u001b[32m   2206\u001b[39m result = []\n\u001b[32m   2207\u001b[39m \u001b[38;5;28;01mfor\u001b[39;00m stmt \u001b[38;5;129;01min\u001b[39;00m stmt_list:\n\u001b[32m-> \u001b[39m\u001b[32m2208\u001b[39m     result.extend(\u001b[38;5;28;43mself\u001b[39;49m\u001b[43m.\u001b[49m\u001b[43mvisit_statement\u001b[49m\u001b[43m(\u001b[49m\u001b[43mstmt\u001b[49m\u001b[43m)\u001b[49m)\n\u001b[32m   2209\u001b[39m \u001b[38;5;28;01mreturn\u001b[39;00m result\n",
      "\u001b[36mFile \u001b[39m\u001b[32m~/code/ucc-ft/.venv/lib/python3.12/site-packages/pyqasm/visitor.py:2190\u001b[39m, in \u001b[36mQasmVisitor.visit_statement\u001b[39m\u001b[34m(self, statement)\u001b[39m\n\u001b[32m   2188\u001b[39m         result.extend(visitor_function(statement))  \u001b[38;5;66;03m# type: ignore[operator]\u001b[39;00m\n\u001b[32m   2189\u001b[39m \u001b[38;5;28;01melse\u001b[39;00m:\n\u001b[32m-> \u001b[39m\u001b[32m2190\u001b[39m     \u001b[43mraise_qasm3_error\u001b[49m\u001b[43m(\u001b[49m\n\u001b[32m   2191\u001b[39m \u001b[43m        \u001b[49m\u001b[33;43mf\u001b[39;49m\u001b[33;43m\"\u001b[39;49m\u001b[33;43mUnsupported statement of type \u001b[39;49m\u001b[38;5;132;43;01m{\u001b[39;49;00m\u001b[38;5;28;43mtype\u001b[39;49m\u001b[43m(\u001b[49m\u001b[43mstatement\u001b[49m\u001b[43m)\u001b[49m\u001b[38;5;132;43;01m}\u001b[39;49;00m\u001b[33;43m\"\u001b[39;49m\u001b[43m,\u001b[49m\n\u001b[32m   2192\u001b[39m \u001b[43m        \u001b[49m\u001b[43merror_node\u001b[49m\u001b[43m=\u001b[49m\u001b[43mstatement\u001b[49m\u001b[43m,\u001b[49m\n\u001b[32m   2193\u001b[39m \u001b[43m        \u001b[49m\u001b[43mspan\u001b[49m\u001b[43m=\u001b[49m\u001b[43mstatement\u001b[49m\u001b[43m.\u001b[49m\u001b[43mspan\u001b[49m\u001b[43m,\u001b[49m\n\u001b[32m   2194\u001b[39m \u001b[43m    \u001b[49m\u001b[43m)\u001b[49m\n\u001b[32m   2195\u001b[39m \u001b[38;5;28;01mreturn\u001b[39;00m result\n",
      "\u001b[36mFile \u001b[39m\u001b[32m~/code/ucc-ft/.venv/lib/python3.12/site-packages/pyqasm/exceptions.py:103\u001b[39m, in \u001b[36mraise_qasm3_error\u001b[39m\u001b[34m(message, err_type, error_node, span, raised_from)\u001b[39m\n\u001b[32m    101\u001b[39m \u001b[38;5;28;01mif\u001b[39;00m raised_from:\n\u001b[32m    102\u001b[39m     \u001b[38;5;28;01mraise\u001b[39;00m err_type(message) \u001b[38;5;28;01mfrom\u001b[39;00m\u001b[38;5;250m \u001b[39m\u001b[34;01mraised_from\u001b[39;00m\n\u001b[32m--> \u001b[39m\u001b[32m103\u001b[39m \u001b[38;5;28;01mraise\u001b[39;00m err_type(message)\n",
      "\u001b[31mValidationError\u001b[39m: Unsupported statement of type <class 'openqasm3.ast.ExternDeclaration'>"
     ]
    }
   ],
   "source": [
    "import pyqasm\n",
    "\n",
    "module = pyqasm.loads(qasm_prep)\n",
    "module.validate()"
   ]
  },
  {
   "cell_type": "code",
   "execution_count": null,
   "id": "46e42345",
   "metadata": {},
   "outputs": [
    {
     "ename": "ConversionError",
     "evalue": "25,0: node of type ConstantDeclaration is not supported",
     "output_type": "error",
     "traceback": [
      "\u001b[31m---------------------------------------------------------------------------\u001b[39m",
      "\u001b[31mConversionError\u001b[39m                           Traceback (most recent call last)",
      "\u001b[36mCell\u001b[39m\u001b[36m \u001b[39m\u001b[32mIn[12]\u001b[39m\u001b[32m, line 2\u001b[39m\n\u001b[32m      1\u001b[39m \u001b[38;5;28;01mfrom\u001b[39;00m\u001b[38;5;250m \u001b[39m\u001b[34;01mqiskit_qasm3_import\u001b[39;00m\u001b[38;5;250m \u001b[39m\u001b[38;5;28;01mimport\u001b[39;00m parse\n\u001b[32m----> \u001b[39m\u001b[32m2\u001b[39m circuit = \u001b[43mparse\u001b[49m\u001b[43m(\u001b[49m\u001b[43mqasm_prep\u001b[49m\u001b[43m)\u001b[49m\n",
      "\u001b[36mFile \u001b[39m\u001b[32m~/code/ucc-ft/.venv/lib/python3.12/site-packages/qiskit_qasm3_import/api.py:27\u001b[39m, in \u001b[36mparse\u001b[39m\u001b[34m(string)\u001b[39m\n\u001b[32m     24\u001b[39m \u001b[38;5;28;01mdef\u001b[39;00m\u001b[38;5;250m \u001b[39m\u001b[34mparse\u001b[39m(string: \u001b[38;5;28mstr\u001b[39m, /) -> QuantumCircuit:\n\u001b[32m     25\u001b[39m \u001b[38;5;250m    \u001b[39m\u001b[33;03m\"\"\"Wrapper around :func:`.convert`, which first parses the OpenQASM 3 program into AST form, and\u001b[39;00m\n\u001b[32m     26\u001b[39m \u001b[33;03m    then converts the output to Qiskit format.\"\"\"\u001b[39;00m\n\u001b[32m---> \u001b[39m\u001b[32m27\u001b[39m     \u001b[38;5;28;01mreturn\u001b[39;00m \u001b[43mconvert\u001b[49m\u001b[43m(\u001b[49m\u001b[43mopenqasm3\u001b[49m\u001b[43m.\u001b[49m\u001b[43mparse\u001b[49m\u001b[43m(\u001b[49m\u001b[43mstring\u001b[49m\u001b[43m)\u001b[49m\u001b[43m)\u001b[49m\n",
      "\u001b[36mFile \u001b[39m\u001b[32m~/code/ucc-ft/.venv/lib/python3.12/site-packages/qiskit_qasm3_import/api.py:21\u001b[39m, in \u001b[36mconvert\u001b[39m\u001b[34m(node)\u001b[39m\n\u001b[32m     18\u001b[39m \u001b[38;5;28;01mdef\u001b[39;00m\u001b[38;5;250m \u001b[39m\u001b[34mconvert\u001b[39m(node: openqasm3.ast.Program) -> QuantumCircuit:\n\u001b[32m     19\u001b[39m \u001b[38;5;250m    \u001b[39m\u001b[33;03m\"\"\"Convert a parsed OpenQASM 3 program in AST form, into a Qiskit\u001b[39;00m\n\u001b[32m     20\u001b[39m \u001b[33;03m    :class:`~qiskit.circuit.QuantumCircuit`.\"\"\"\u001b[39;00m\n\u001b[32m---> \u001b[39m\u001b[32m21\u001b[39m     \u001b[38;5;28;01mreturn\u001b[39;00m \u001b[43mConvertVisitor\u001b[49m\u001b[43m(\u001b[49m\u001b[43m)\u001b[49m\u001b[43m.\u001b[49m\u001b[43mconvert\u001b[49m\u001b[43m(\u001b[49m\u001b[43mnode\u001b[49m\u001b[43m)\u001b[49m.circuit\n",
      "\u001b[36mFile \u001b[39m\u001b[32m~/code/ucc-ft/.venv/lib/python3.12/site-packages/qiskit_qasm3_import/converter.py:147\u001b[39m, in \u001b[36mConvertVisitor.convert\u001b[39m\u001b[34m(self, node, source)\u001b[39m\n\u001b[32m    138\u001b[39m \u001b[38;5;28;01mdef\u001b[39;00m\u001b[38;5;250m \u001b[39m\u001b[34mconvert\u001b[39m(\u001b[38;5;28mself\u001b[39m, node: ast.Program, *, source: Optional[\u001b[38;5;28mstr\u001b[39m] = \u001b[38;5;28;01mNone\u001b[39;00m) -> QuantumCircuit:\n\u001b[32m    139\u001b[39m \u001b[38;5;250m    \u001b[39m\u001b[33;03m\"\"\"Convert a program node into a :class:`~qiskit.circuit.QuantumCircuit`.\u001b[39;00m\n\u001b[32m    140\u001b[39m \n\u001b[32m    141\u001b[39m \u001b[33;03m    If given, `source` is a string containing the OpenQASM 3 source code that was parsed into\u001b[39;00m\n\u001b[32m   (...)\u001b[39m\u001b[32m    144\u001b[39m \u001b[33;03m    stored in property thereof named `circuit`.\u001b[39;00m\n\u001b[32m    145\u001b[39m \u001b[33;03m    \"\"\"\u001b[39;00m\n\u001b[32m--> \u001b[39m\u001b[32m147\u001b[39m     state: State = \u001b[38;5;28;43mself\u001b[39;49m\u001b[43m.\u001b[49m\u001b[43mvisit\u001b[49m\u001b[43m(\u001b[49m\u001b[43mnode\u001b[49m\u001b[43m,\u001b[49m\u001b[43m \u001b[49m\u001b[43mState\u001b[49m\u001b[43m(\u001b[49m\u001b[43msource\u001b[49m\u001b[43m)\u001b[49m\u001b[43m)\u001b[49m\n\u001b[32m    148\u001b[39m     \u001b[38;5;28;01mif\u001b[39;00m state.addressing_mode.is_physical():\n\u001b[32m    149\u001b[39m         \u001b[38;5;66;03m# pylint: disable=protected-access\u001b[39;00m\n\u001b[32m    150\u001b[39m         state.circuit._layout = TranspileLayout(\n\u001b[32m    151\u001b[39m             initial_layout=Layout.from_qubit_list(state.circuit.qubits),\n\u001b[32m    152\u001b[39m             input_qubit_mapping={bit: i \u001b[38;5;28;01mfor\u001b[39;00m i, bit \u001b[38;5;129;01min\u001b[39;00m \u001b[38;5;28menumerate\u001b[39m(state.circuit.qubits)},\n\u001b[32m    153\u001b[39m             final_layout=\u001b[38;5;28;01mNone\u001b[39;00m,\n\u001b[32m    154\u001b[39m         )\n",
      "\u001b[36mFile \u001b[39m\u001b[32m~/code/ucc-ft/.venv/lib/python3.12/site-packages/openqasm3/visitor.py:44\u001b[39m, in \u001b[36mQASMVisitor.visit\u001b[39m\u001b[34m(self, node, context)\u001b[39m\n\u001b[32m     42\u001b[39m \u001b[38;5;66;03m# The visitor method may not have the context argument.\u001b[39;00m\n\u001b[32m     43\u001b[39m \u001b[38;5;28;01mif\u001b[39;00m context:\n\u001b[32m---> \u001b[39m\u001b[32m44\u001b[39m     \u001b[38;5;28;01mreturn\u001b[39;00m \u001b[43mvisitor\u001b[49m\u001b[43m(\u001b[49m\u001b[43mnode\u001b[49m\u001b[43m,\u001b[49m\u001b[43m \u001b[49m\u001b[43mcontext\u001b[49m\u001b[43m)\u001b[49m\n\u001b[32m     45\u001b[39m \u001b[38;5;28;01melse\u001b[39;00m:\n\u001b[32m     46\u001b[39m     \u001b[38;5;28;01mreturn\u001b[39;00m visitor(node)\n",
      "\u001b[36mFile \u001b[39m\u001b[32m~/code/ucc-ft/.venv/lib/python3.12/site-packages/qiskit_qasm3_import/converter.py:288\u001b[39m, in \u001b[36mConvertVisitor.visit_Program\u001b[39m\u001b[34m(self, node, context)\u001b[39m\n\u001b[32m    286\u001b[39m \u001b[38;5;28;01mdef\u001b[39;00m\u001b[38;5;250m \u001b[39m\u001b[34mvisit_Program\u001b[39m(\u001b[38;5;28mself\u001b[39m, node: ast.Program, context: State) -> State:\n\u001b[32m    287\u001b[39m     \u001b[38;5;28;01mfor\u001b[39;00m statement \u001b[38;5;129;01min\u001b[39;00m node.statements:\n\u001b[32m--> \u001b[39m\u001b[32m288\u001b[39m         context = \u001b[38;5;28;43mself\u001b[39;49m\u001b[43m.\u001b[49m\u001b[43mvisit\u001b[49m\u001b[43m(\u001b[49m\u001b[43mstatement\u001b[49m\u001b[43m,\u001b[49m\u001b[43m \u001b[49m\u001b[43mcontext\u001b[49m\u001b[43m)\u001b[49m\n\u001b[32m    289\u001b[39m     \u001b[38;5;28;01mreturn\u001b[39;00m context\n",
      "\u001b[36mFile \u001b[39m\u001b[32m~/code/ucc-ft/.venv/lib/python3.12/site-packages/openqasm3/visitor.py:44\u001b[39m, in \u001b[36mQASMVisitor.visit\u001b[39m\u001b[34m(self, node, context)\u001b[39m\n\u001b[32m     42\u001b[39m \u001b[38;5;66;03m# The visitor method may not have the context argument.\u001b[39;00m\n\u001b[32m     43\u001b[39m \u001b[38;5;28;01mif\u001b[39;00m context:\n\u001b[32m---> \u001b[39m\u001b[32m44\u001b[39m     \u001b[38;5;28;01mreturn\u001b[39;00m \u001b[43mvisitor\u001b[49m\u001b[43m(\u001b[49m\u001b[43mnode\u001b[49m\u001b[43m,\u001b[49m\u001b[43m \u001b[49m\u001b[43mcontext\u001b[49m\u001b[43m)\u001b[49m\n\u001b[32m     45\u001b[39m \u001b[38;5;28;01melse\u001b[39;00m:\n\u001b[32m     46\u001b[39m     \u001b[38;5;28;01mreturn\u001b[39;00m visitor(node)\n",
      "\u001b[36mFile \u001b[39m\u001b[32m~/code/ucc-ft/.venv/lib/python3.12/site-packages/qiskit_qasm3_import/converter.py:284\u001b[39m, in \u001b[36mConvertVisitor.generic_visit\u001b[39m\u001b[34m(self, node, context)\u001b[39m\n\u001b[32m    283\u001b[39m \u001b[38;5;28;01mdef\u001b[39;00m\u001b[38;5;250m \u001b[39m\u001b[34mgeneric_visit\u001b[39m(\u001b[38;5;28mself\u001b[39m, node, context=\u001b[38;5;28;01mNone\u001b[39;00m):\n\u001b[32m--> \u001b[39m\u001b[32m284\u001b[39m     \u001b[43mraise_from_node\u001b[49m\u001b[43m(\u001b[49m\u001b[43mnode\u001b[49m\u001b[43m,\u001b[49m\u001b[43m \u001b[49m\u001b[33;43mf\u001b[39;49m\u001b[33;43m\"\u001b[39;49m\u001b[33;43mnode of type \u001b[39;49m\u001b[38;5;132;43;01m{\u001b[39;49;00m\u001b[43mnode\u001b[49m\u001b[43m.\u001b[49m\u001b[34;43m__class__\u001b[39;49m\u001b[43m.\u001b[49m\u001b[34;43m__name__\u001b[39;49m\u001b[38;5;132;43;01m}\u001b[39;49;00m\u001b[33;43m is not supported\u001b[39;49m\u001b[33;43m\"\u001b[39;49m\u001b[43m)\u001b[49m\n",
      "\u001b[36mFile \u001b[39m\u001b[32m~/code/ucc-ft/.venv/lib/python3.12/site-packages/qiskit_qasm3_import/exceptions.py:31\u001b[39m, in \u001b[36mraise_from_node\u001b[39m\u001b[34m(node, message)\u001b[39m\n\u001b[32m     29\u001b[39m \u001b[38;5;28;01mdef\u001b[39;00m\u001b[38;5;250m \u001b[39m\u001b[34mraise_from_node\u001b[39m(node: ast.QASMNode, message: \u001b[38;5;28mstr\u001b[39m) -> NoReturn:\n\u001b[32m     30\u001b[39m \u001b[38;5;250m    \u001b[39m\u001b[33;03m\"\"\"Raise a :exc:`.ConversionError` caused by the given `node`.\"\"\"\u001b[39;00m\n\u001b[32m---> \u001b[39m\u001b[32m31\u001b[39m     \u001b[38;5;28;01mraise\u001b[39;00m ConversionError(message, node)\n",
      "\u001b[31mConversionError\u001b[39m: 25,0: node of type ConstantDeclaration is not supported"
     ]
    }
   ],
   "source": [
    "from qiskit_qasm3_import import parse\n",
    "\n",
    "circuit = parse(qasm_prep)"
   ]
  },
  {
   "cell_type": "code",
   "execution_count": null,
   "id": "7bf8f4bc",
   "metadata": {},
   "outputs": [],
   "source": []
  }
 ],
 "metadata": {
  "kernelspec": {
   "display_name": ".venv",
   "language": "python",
   "name": "python3"
  },
  "language_info": {
   "codemirror_mode": {
    "name": "ipython",
    "version": 3
   },
   "file_extension": ".py",
   "mimetype": "text/x-python",
   "name": "python",
   "nbconvert_exporter": "python",
   "pygments_lexer": "ipython3",
   "version": "3.12.7"
  }
 },
 "nbformat": 4,
 "nbformat_minor": 5
}
