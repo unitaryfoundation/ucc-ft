{
 "cells": [
  {
   "cell_type": "code",
   "execution_count": 1,
   "id": "02d9a7f6",
   "metadata": {},
   "outputs": [
    {
     "name": "stdout",
     "output_type": "stream",
     "text": [
      "Detected IPython. Loading juliacall extension. See https://juliapy.github.io/PythonCall.jl/stable/compat/#IPython\n"
     ]
    }
   ],
   "source": [
    "from ucc_ft.codes import RotatedSurfaceCode\n",
    "from ucc_ft.checker import ft_check"
   ]
  },
  {
   "cell_type": "markdown",
   "id": "4d4959ca",
   "metadata": {},
   "source": [
    "This notebook demonstrates how `ucc-ft` is used to verify the fault tolerance of a circuit. It focuses on the the rotated surface code for d=3"
   ]
  },
  {
   "cell_type": "code",
   "execution_count": 2,
   "id": "8ec3f0cd",
   "metadata": {},
   "outputs": [
    {
     "data": {
      "text/plain": [
       "[stim.PauliString(\"+ZZ\"),\n",
       " stim.PauliString(\"+___X__X\"),\n",
       " stim.PauliString(\"+_ZZ_ZZ\"),\n",
       " stim.PauliString(\"+XX_XX\"),\n",
       " stim.PauliString(\"+___ZZ_ZZ\"),\n",
       " stim.PauliString(\"+____XX_XX\"),\n",
       " stim.PauliString(\"+_______ZZ\"),\n",
       " stim.PauliString(\"+__X__X\")]"
      ]
     },
     "execution_count": 2,
     "metadata": {},
     "output_type": "execute_result"
    }
   ],
   "source": [
    "# d= 3 code, show the stabilizers for reference\n",
    "sc = RotatedSurfaceCode(3)\n",
    "sc.stabilizers()"
   ]
  },
  {
   "cell_type": "markdown",
   "id": "cb86d909",
   "metadata": {},
   "source": [
    "Let's start by checking the CNOT gate for this code, which is just implemented transversally.\n",
    "\n",
    "First, let's load the QASM for that gate:"
   ]
  },
  {
   "cell_type": "code",
   "execution_count": 3,
   "id": "7589c89a",
   "metadata": {},
   "outputs": [],
   "source": [
    "cnot_circuit = \"\"\"\n",
    "    OPENQASM 3.0;\n",
    "    include \"stdgates.inc\";\n",
    "\n",
    "    const uint d = 3;\n",
    "    const uint data_size = d * d;\n",
    "    qubit[data_size] state1;\n",
    "    qubit[data_size] state2;\n",
    "\n",
    "    def logical_CNOT() {\n",
    "        // QASM ranges are inclusive for both start and end\n",
    "        for int i in [0:(data_size-1)] {\n",
    "            cx state1[i], state2[i];\n",
    "        }\n",
    "    }\n",
    "    \"\"\""
   ]
  },
  {
   "cell_type": "markdown",
   "id": "e39cd354",
   "metadata": {},
   "source": [
    "Now run the checker on that gate for this code:"
   ]
  },
  {
   "cell_type": "code",
   "execution_count": 4,
   "id": "e8413e19",
   "metadata": {},
   "outputs": [
    {
     "name": "stdout",
     "output_type": "stream",
     "text": [
      "Circuit is fault-tolerant\n"
     ]
    }
   ],
   "source": [
    "res = ft_check(sc, cnot_circuit, \"logical_CNOT\", \"gate\")\n",
    "print(res)"
   ]
  },
  {
   "cell_type": "markdown",
   "id": "e0afac2b",
   "metadata": {},
   "source": [
    "A more complicated example is state preparation. For state preparation, we follow the Shor method, where the stabilizers are repeatedly measured, and then once the outcome stabilized, we apply a correciton get get back to the logical 0 state.\n",
    "\n",
    "First, load the [QASM](../test/rotated_surface_code.qasm). Note that it has some `extern` functions for classical components. One is for rotating indicies into the stabilizer code. A more complex one is `mwpm_full` which represents the minimum weigh-perfect matching function used to diagnose the errors. For checking, we don't actually run the algorithm, but this function does act as an oracle and sets constraints on the classical symbolic variables to reflect the act of correcting."
   ]
  },
  {
   "cell_type": "code",
   "execution_count": 5,
   "id": "88e135eb",
   "metadata": {},
   "outputs": [],
   "source": [
    "qasm_prep = open(\"../test/rotated_surface_code.qasm\").read()"
   ]
  },
  {
   "cell_type": "markdown",
   "id": "24daa22c",
   "metadata": {},
   "source": [
    "To check the fault-tolerance below, there's a little more work involved, because these `extern` functions are defined in a separate Julia file. This also shows a bit more of the pipeline, where the QASM is converted into a `@qprog`, which is the embedded DSL in Julia the authors use to represent a quantum circuit. It is converted using "
   ]
  },
  {
   "cell_type": "code",
   "execution_count": 6,
   "id": "c0ab1d3e",
   "metadata": {},
   "outputs": [
    {
     "name": "stdout",
     "output_type": "stream",
     "text": [
      "Circuit is fault-tolerant\n"
     ]
    }
   ],
   "source": [
    "from ucc_ft.checker import qasm_to_qprog_source, julia_source_to_qprog, ft_check_ideal\n",
    "\n",
    "qprog_src = qasm_to_qprog_source(qasm_prep)\n",
    "\n",
    "julia_source = open(\"../test/rotated_surface_code.in_translation.jl\").read()\n",
    "\n",
    "qprog_context = julia_source_to_qprog(\n",
    "    julia_source + \"\\n\\n\" + qprog_src,\n",
    "    [\n",
    "        \"prepare_state\",\n",
    "        \"rotated_surface_z_m\",\n",
    "        \"rotated_surface_x_m\",\n",
    "        \"rotated_surface_lz_m\",\n",
    "        \"prepare_cat\",\n",
    "        \"rotate\",\n",
    "        \"mwpm_full\",\n",
    "        \"mwpm_full_x\",\n",
    "        \"mwpm_full_z\",\n",
    "        \"_xadj\",\n",
    "        \"_zadj\",\n",
    "        \"data_size\",\n",
    "        \"cat_size\",\n",
    "        \"state\",\n",
    "        \"cat\",\n",
    "        \"verify\",\n",
    "        \"num_syndromes\",\n",
    "    ],\n",
    ")\n",
    "\n",
    "res = ft_check_ideal(\n",
    "    sc,\n",
    "    qprog_context.get_qprog(\"prepare_state\"),\n",
    "    qprog_context,\n",
    "    \"prepare\",\n",
    "    NERRS=12,\n",
    ")\n",
    "print(res)"
   ]
  },
  {
   "cell_type": "markdown",
   "id": "46f578d1",
   "metadata": {},
   "source": [
    "The conversion is done by first parsing the QASM to an Abstract Syntax Tree (AST) using `openqasm`. A custom visitor is then used to walk the AST and emit the corresponding qprog. This looks like:"
   ]
  },
  {
   "cell_type": "code",
   "execution_count": 7,
   "id": "e94cbb5a",
   "metadata": {},
   "outputs": [
    {
     "name": "stdout",
     "output_type": "stream",
     "text": [
      "__qubit_count = 0\n",
      "const d = 3;\n",
      "const data_size = (d * d);\n",
      "const cat_size = (d + 1);\n",
      "const verify_size = 1;\n",
      "const num_syndromes = ((((d * d) - 1)) ÷ 2);\n",
      "state = [i + __qubit_count for i in 1:(data_size)]\n",
      "__qubit_count += data_size;\n",
      "cat = [i + __qubit_count for i in 1:(cat_size)]\n",
      "__qubit_count += cat_size;\n",
      "verify = __qubit_count + 1 \n",
      "__qubit_count += 1;\n",
      "@qprog prepare_cat (num_cat ) begin\n",
      "\n",
      "  set_source_line(76);\n",
      "  res = bv_val(ctx, 1, 1);\n",
      "  @repeat begin \n",
      "    set_source_line(78);\n",
      "    INIT(cat[( 0 ) + 1 ]);\n",
      "    res = 0;\n",
      "    set_source_line(80);\n",
      "    H(cat[( 0 ) + 1 ]);\n",
      "    for i in (1):((num_cat - 1)) \n",
      "      set_source_line(83);\n",
      "      INIT(cat[( i ) + 1 ]);\n",
      "      set_source_line(84);\n",
      "      CNOT(cat[( 0 ) + 1 ], cat[( i ) + 1 ]);\n",
      "    end\n",
      "    for i in (1):((num_cat - 1)) \n",
      "      set_source_line(88);\n",
      "      INIT(verify);\n",
      "      set_source_line(89);\n",
      "      CNOT(cat[( (i - 1) ) + 1 ], verify);\n",
      "      set_source_line(90);\n",
      "      CNOT(cat[( i ) + 1 ], verify);\n",
      "      set_source_line(91);\n",
      "      tmp = DestructiveM(verify);\n",
      "      res = (res | tmp);\n",
      "    end\n",
      "  end :until (res == bv_val(ctx,0,1))\n",
      "end\n",
      "@qprog rotated_surface_z_m (idx ) begin\n",
      "\n",
      "  set_source_line(99);\n",
      "  num_cat = 2;\n",
      "  if ((idx < (((d - 1)) ÷ 2))) \n",
      "    num_cat = 2;\n",
      "    prepare_cat(num_cat);\n",
      "    set_source_line(108);\n",
      "    CZ(cat[( 0 ) + 1 ], state[( (2 * idx) ) + 1 ]);\n",
      "    set_source_line(109);\n",
      "    CZ(cat[( 1 ) + 1 ], state[( ((2 * idx) + 1) ) + 1 ]);\n",
      "  end\n",
      "  if ((idx >= ((d * ((d - 1))) ÷ 2))) \n",
      "    num_cat = 2;\n",
      "    prepare_cat(num_cat);\n",
      "    set_source_line(117);\n",
      "    CZ(cat[( 0 ) + 1 ], state[( ((2 * idx) + 1) ) + 1 ]);\n",
      "    set_source_line(118);\n",
      "    CZ(cat[( 1 ) + 1 ], state[( (2 * ((idx + 1))) ) + 1 ]);\n",
      "  end\n",
      "  if (((idx >= (((d - 1)) ÷ 2)) && (idx < ((d * ((d - 1))) ÷ 2)))) \n",
      "    num_cat = 4;\n",
      "    prepare_cat(num_cat);\n",
      "    set_source_line(126);\n",
      "    i = (idx ÷ ((((d - 1)) ÷ 2)));\n",
      "    set_source_line(127);\n",
      "    j = ((((idx % ((((d - 1)) ÷ 2))) * 2) + 1) + (i % 2));\n",
      "    set_source_line(129);\n",
      "    CZ(cat[( 0 ) + 1 ], state[( (((((i - 1)) * d) + j) - 1) ) + 1 ]);\n",
      "    set_source_line(130);\n",
      "    CZ(cat[( 1 ) + 1 ], state[( ((((i - 1)) * d) + j) ) + 1 ]);\n",
      "    set_source_line(131);\n",
      "    CZ(cat[( 2 ) + 1 ], state[( (((i * d) + j) - 1) ) + 1 ]);\n",
      "    set_source_line(132);\n",
      "    CZ(cat[( 3 ) + 1 ], state[( ((i * d) + j) ) + 1 ]);\n",
      "  end\n",
      "  set_source_line(136);\n",
      "  res = bv_val(ctx, 0, 1);\n",
      "  for c in (0):((num_cat - 1)) \n",
      "    set_source_line(138);\n",
      "    H(cat[( c ) + 1 ]);\n",
      "    set_source_line(139);\n",
      "    tmp = DestructiveM(cat[( c ) + 1 ]);\n",
      "    set_source_line(140);\n",
      "    H(cat[( c ) + 1 ]);\n",
      "    res = (res ⊻ tmp);\n",
      "  end\n",
      "  return res;\n",
      "end\n",
      "@qprog rotated_surface_x_m (idx ) begin\n",
      "\n",
      "  set_source_line(148);\n",
      "  num_cat = 2;\n",
      "  if ((idx < (((d - 1)) ÷ 2))) \n",
      "    num_cat = 2;\n",
      "    prepare_cat(num_cat);\n",
      "    set_source_line(155);\n",
      "    CNOT(cat[( 0 ) + 1 ], state[( rotate(d, (2 * idx)) ) + 1 ]);\n",
      "    set_source_line(156);\n",
      "    CNOT(cat[( 1 ) + 1 ], state[( rotate(d, ((2 * idx) + 1)) ) + 1 ]);\n",
      "  end\n",
      "  if ((idx >= ((d * ((d - 1))) ÷ 2))) \n",
      "    num_cat = 2;\n",
      "    prepare_cat(num_cat);\n",
      "    set_source_line(163);\n",
      "    CNOT(cat[( 0 ) + 1 ], state[( rotate(d, ((2 * idx) + 1)) ) + 1 ]);\n",
      "    set_source_line(164);\n",
      "    CNOT(cat[( 1 ) + 1 ], state[( rotate(d, (2 * ((idx + 1)))) ) + 1 ]);\n",
      "  end\n",
      "  if (((idx >= (((d - 1)) ÷ 2)) && (idx < ((d * ((d - 1))) ÷ 2)))) \n",
      "    num_cat = 4;\n",
      "    prepare_cat(num_cat);\n",
      "    set_source_line(171);\n",
      "    i = (idx ÷ ((((d - 1)) ÷ 2)));\n",
      "    set_source_line(172);\n",
      "    j = ((((idx % ((((d - 1)) ÷ 2))) * 2) + 1) + (i % 2));\n",
      "    set_source_line(174);\n",
      "    CNOT(cat[( 0 ) + 1 ], state[( rotate(d, (((((i - 1)) * d) + j) - 1)) ) + 1 ]);\n",
      "    set_source_line(175);\n",
      "    CNOT(cat[( 1 ) + 1 ], state[( rotate(d, ((((i - 1)) * d) + j)) ) + 1 ]);\n",
      "    set_source_line(176);\n",
      "    CNOT(cat[( 2 ) + 1 ], state[( rotate(d, (((i * d) + j) - 1)) ) + 1 ]);\n",
      "    set_source_line(177);\n",
      "    CNOT(cat[( 3 ) + 1 ], state[( rotate(d, ((i * d) + j)) ) + 1 ]);\n",
      "  end\n",
      "  set_source_line(181);\n",
      "  res = bv_val(ctx, 0, 1);\n",
      "  for c in (0):((num_cat - 1)) \n",
      "    set_source_line(183);\n",
      "    H(cat[( c ) + 1 ]);\n",
      "    set_source_line(184);\n",
      "    tmp = DestructiveM(cat[( c ) + 1 ]);\n",
      "    set_source_line(185);\n",
      "    H(cat[( c ) + 1 ]);\n",
      "    res = (res ⊻ tmp);\n",
      "  end\n",
      "  return res;\n",
      "end\n",
      "@qprog rotated_surface_lz_m ( ) begin\n",
      "\n",
      "  prepare_cat(d);\n",
      "  for i in (0):((d - 1)) \n",
      "    set_source_line(199);\n",
      "    CZ(cat[( i ) + 1 ], state[( ((((d * (((2 * i) + 1))) - 1)) ÷ 2) ) + 1 ]);\n",
      "  end\n",
      "  set_source_line(203);\n",
      "  res = bv_val(ctx, 0, 1);\n",
      "  for c in (0):((d - 1)) \n",
      "    set_source_line(205);\n",
      "    H(cat[( c ) + 1 ]);\n",
      "    set_source_line(206);\n",
      "    tmp = DestructiveM(cat[( c ) + 1 ]);\n",
      "    set_source_line(207);\n",
      "    H(cat[( c ) + 1 ]);\n",
      "    res = (res ⊻ tmp);\n",
      "  end\n",
      "  return res;\n",
      "end\n",
      "@qprog prepare_state ( ) begin\n",
      "\n",
      "  for i in (0):((data_size - 1)) \n",
      "    set_source_line(217);\n",
      "    INIT(state[( i ) + 1 ]);\n",
      "  end\n",
      "  t = ((((d - 1)) ÷ 2) + 1);\n",
      "  set_source_line(223);\n",
      "  res = bv_val(ctx, 1, 1);\n",
      "  set_source_line(226);\n",
      "  s_x = Vector{Z3.Expr}(undef, num_syndromes );\n",
      "  set_source_line(227);\n",
      "  s_z = Vector{Z3.Expr}(undef, num_syndromes );\n",
      "  set_source_line(228);\n",
      "  s_lz = bv_val(ctx, 0, 1);\n",
      "  @repeat begin \n",
      "    res = 0;\n",
      "    for round in (0):((t - 1)) \n",
      "      for j in (0):((num_syndromes - 1)) \n",
      "        set_source_line(241);\n",
      "        m_x = rotated_surface_x_m(j);\n",
      "        set_source_line(242);\n",
      "        m_z = rotated_surface_z_m(j);\n",
      "        if ((round > 0)) \n",
      "          res = ((res | (m_x ⊻ s_x[( j ) + 1 ])) | (m_z ⊻ s_z[( j ) + 1 ]));\n",
      "        end\n",
      "        s_x[( j ) + 1 ] = m_x;\n",
      "        s_z[( j ) + 1 ] = m_z;\n",
      "      end\n",
      "      set_source_line(254);\n",
      "      m_lz = rotated_surface_lz_m();\n",
      "      if ((round > 0)) \n",
      "        res = (res | (m_lz ⊻ s_lz));\n",
      "      end\n",
      "      s_lz = m_lz;\n",
      "    end\n",
      "  end :until (res == bv_val(ctx,0,1))\n",
      "  set_source_line(266);\n",
      "  r_x = mwpm_full_x(ctx, d, s_x);\n",
      "  set_source_line(267);\n",
      "  r_z = mwpm_full_z(ctx, d, s_z, s_lz);\n",
      "  for i in (0):((data_size - 1)) \n",
      "    set_source_line(272);\n",
      "    sZ(state[( i ) + 1 ] , r_x[( i ) + 1 ])\n",
      "    set_source_line(275);\n",
      "    sX(state[( i ) + 1 ] , r_z[( i ) + 1 ])\n",
      "  end\n",
      "  for i in (0):((cat_size - 1)) \n",
      "    set_source_line(281);\n",
      "    INIT(cat[( i ) + 1 ]);\n",
      "  end\n",
      "  set_source_line(283);\n",
      "  INIT(verify);\n",
      "end\n",
      "\n"
     ]
    }
   ],
   "source": [
    "print(qprog_src)"
   ]
  },
  {
   "cell_type": "markdown",
   "id": "7bf8f4bc",
   "metadata": {},
   "source": []
  }
 ],
 "metadata": {
  "kernelspec": {
   "display_name": "ucc-ft",
   "language": "python",
   "name": "python3"
  },
  "language_info": {
   "codemirror_mode": {
    "name": "ipython",
    "version": 3
   },
   "file_extension": ".py",
   "mimetype": "text/x-python",
   "name": "python",
   "nbconvert_exporter": "python",
   "pygments_lexer": "ipython3",
   "version": "3.12.7"
  }
 },
 "nbformat": 4,
 "nbformat_minor": 5
}
