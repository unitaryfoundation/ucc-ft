{
 "cells": [
  {
   "cell_type": "code",
   "execution_count": 1,
   "id": "8f3e1760",
   "metadata": {},
   "outputs": [
    {
     "name": "stdout",
     "output_type": "stream",
     "text": [
      "Detected IPython. Loading juliacall extension. See https://juliapy.github.io/PythonCall.jl/stable/compat/#IPython\n"
     ]
    }
   ],
   "source": [
    "from stim import PauliString\n",
    "from ucc_ft.checker import ft_check"
   ]
  },
  {
   "cell_type": "markdown",
   "id": "cf957122",
   "metadata": {},
   "source": [
    "This notebook demonstrates finding a circuit error on a small example. In this case, we consider a cat state preparation circuit. Although not a gadget for an error correcting code, we can still definite its fault-tolerance up to an allowed number of faults in the prepared state. "
   ]
  },
  {
   "cell_type": "code",
   "execution_count": 2,
   "id": "c7792b6c",
   "metadata": {},
   "outputs": [],
   "source": [
    "class CatStateStabilizer:\n",
    "    def __init__(self, num_qubits: int, max_faults: int):\n",
    "        self.num_qubits = num_qubits\n",
    "        self.d = max_faults * 2 + 1\n",
    "\n",
    "    def stabilizers(self):\n",
    "        return [\n",
    "            PauliString(f\"Z{i}*Z{j}\")\n",
    "            for (i, j) in zip(range(self.num_qubits), range(1, self.num_qubits))\n",
    "        ]\n",
    "\n",
    "    def logical_prep_stabilizer(self):\n",
    "        \"\"\"The prepared state is |+>_L, the +1 eigenstate of the logical X operator.\"\"\"\n",
    "        return PauliString(\"X\" * self.num_qubits)\n",
    "\n",
    "    def physical_z_stabilizers(self):\n",
    "        return [PauliString(f\"Z{i}\") for i in range(self.num_qubits)]"
   ]
  },
  {
   "cell_type": "code",
   "execution_count": null,
   "id": "4702c9af",
   "metadata": {},
   "outputs": [
    {
     "name": "stdout",
     "output_type": "stream",
     "text": [
      "shape: (4, 8)\n",
      "shape: (4, 8)\n",
      "1\n",
      ">>> 1 INIT target_qubit=1\n",
      "2\n",
      ">>> 3 H target_qubit=1\n",
      "3\n",
      ">>> 4 INIT target_qubit=2\n",
      "4\n",
      ">>> 8 CNOT target_qubit1=1, target_qubit2=2\n",
      "5\n",
      ">>> 9 INIT target_qubit=3\n",
      "6\n",
      ">>> 13 CNOT target_qubit1=1, target_qubit2=3\n",
      "7\n",
      ">>> 14 INIT target_qubit=4\n",
      "8\n",
      ">>> 18 CNOT target_qubit1=1, target_qubit2=4\n",
      "9\n",
      ">>> 19 INIT target_qubit=5\n",
      "10\n",
      ">>> 23 CNOT target_qubit1=1, target_qubit2=5\n",
      "11\n",
      ">>> 27 CNOT target_qubit1=2, target_qubit2=5\n",
      "12\n",
      ">>> 31 CNOT target_qubit1=2, target_qubit2=5\n",
      "13\n",
      ">>> 35 CNOT target_qubit1=3, target_qubit2=5\n",
      "14\n",
      ">>> 39 CNOT target_qubit1=3, target_qubit2=5\n",
      "15\n",
      ">>> 43 CNOT target_qubit1=4, target_qubit2=5\n",
      "16\n",
      ">>> 44 DestructiveM target_qubit=5, sym_name=DestructiveM_cat_prep_5_1\n",
      ">>> Fail!\n"
     ]
    },
    {
     "name": "stderr",
     "output_type": "stream",
     "text": [
      "[ Info: '`bitwuzla -rwl 1`' is used as smt solver for FT_condition case\n",
      "[ Info: '`bitwuzla -rwl 1`' has solved the problem\n",
      "[ Info: The assignment that generates the bug has been written to ./_temp_check_FT_condition_.output\n"
     ]
    },
    {
     "data": {
      "text/plain": [
       "False"
      ]
     },
     "execution_count": 3,
     "metadata": {},
     "output_type": "execute_result"
    }
   ],
   "source": [
    "num_qubits = 4\n",
    "max_faults = 2\n",
    "code = CatStateStabilizer(num_qubits, max_faults)\n",
    "\n",
    "circuit = \"\"\"\n",
    "OPENQASM 3.0;\n",
    "include \"stdgates.inc\";\n",
    "\n",
    "const uint size = __NUM_QUBITS__;\n",
    "qubit[size] state;\n",
    "qubit ancilla;\n",
    "\n",
    "def cat_prep() {\n",
    "    bit res = 1;\n",
    "    while(res != 0) {\n",
    "        reset state[0];\n",
    "        res = 0;\n",
    "        h state[0];\n",
    "\n",
    "        // QASM ranges are inclusive for both start and end\n",
    "        for int i in [1:(size-1)] {\n",
    "            reset state[i];\n",
    "            cx state[0], state[i];\n",
    "        }\n",
    "\n",
    "        // Parity check\n",
    "        reset ancilla;\n",
    "        for int i in [1:(size-1)] {\n",
    "            cx state[i-1], ancilla;\n",
    "            cx state[i], ancilla;\n",
    "        }\n",
    "        res = measure ancilla;\n",
    "    }\n",
    "}\n",
    "\"\"\".replace(\"__NUM_QUBITS__\", str(num_qubits))\n",
    "\n",
    "res = ft_check(code, circuit, \"cat_prep\", \"prepare\", num_ancilla=1)\n",
    "\n",
    "if not res:\n"
   ]
  },
  {
   "cell_type": "code",
   "execution_count": null,
   "id": "5432cbab",
   "metadata": {},
   "outputs": [],
   "source": []
  }
 ],
 "metadata": {
  "kernelspec": {
   "display_name": ".venv",
   "language": "python",
   "name": "python3"
  },
  "language_info": {
   "codemirror_mode": {
    "name": "ipython",
    "version": 3
   },
   "file_extension": ".py",
   "mimetype": "text/x-python",
   "name": "python",
   "nbconvert_exporter": "python",
   "pygments_lexer": "ipython3",
   "version": "3.12.7"
  }
 },
 "nbformat": 4,
 "nbformat_minor": 5
}
