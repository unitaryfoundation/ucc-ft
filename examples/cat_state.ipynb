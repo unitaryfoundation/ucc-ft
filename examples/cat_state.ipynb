{
 "cells": [
  {
   "cell_type": "code",
   "execution_count": 1,
   "id": "8f3e1760",
   "metadata": {},
   "outputs": [
    {
     "name": "stdout",
     "output_type": "stream",
     "text": [
      "Detected IPython. Loading juliacall extension. See https://juliapy.github.io/PythonCall.jl/stable/compat/#IPython\n"
     ]
    }
   ],
   "source": [
    "from ucc_ft.checker import ft_check\n",
    "from ucc_ft.codes import CatStateCode"
   ]
  },
  {
   "cell_type": "markdown",
   "id": "cf957122",
   "metadata": {},
   "source": [
    "This notebook demonstrates finding a circuit error on a small example. In this case, we consider a cat state preparation circuit. Although not a gadget for an error correcting code, we can still definite its fault-tolerance up to an allowed number of faults in the prepared state. "
   ]
  },
  {
   "cell_type": "code",
   "execution_count": 2,
   "id": "c7792b6c",
   "metadata": {},
   "outputs": [
    {
     "data": {
      "text/plain": [
       "[stim.PauliString(\"+ZZ\"), stim.PauliString(\"+_ZZ\"), stim.PauliString(\"+__ZZ\")]"
      ]
     },
     "execution_count": 2,
     "metadata": {},
     "output_type": "execute_result"
    }
   ],
   "source": [
    "num_qubits = 4\n",
    "max_faults = 2\n",
    "code = CatStateCode(num_qubits, max_faults)\n",
    "\n",
    "code.stabilizers()"
   ]
  },
  {
   "cell_type": "code",
   "execution_count": 3,
   "id": "4702c9af",
   "metadata": {},
   "outputs": [
    {
     "name": "stderr",
     "output_type": "stream",
     "text": [
      "Precompiling QuantumSE...\n",
      "   1474.4 ms  ✓ QuantumSE\n",
      "  1 dependency successfully precompiled in 2 seconds. 65 already precompiled.\n"
     ]
    },
    {
     "name": "stdout",
     "output_type": "stream",
     "text": [
      "Circuit is not fault-tolerant. Fault-tolerant error locations:\n",
      "[Line  19] X-Pauli error on Qubit 0\n"
     ]
    }
   ],
   "source": [
    "circuit = \"\"\"\n",
    "OPENQASM 3.0;\n",
    "include \"stdgates.inc\";\n",
    "\n",
    "const uint size = __NUM_QUBITS__;\n",
    "qubit[size] state;\n",
    "qubit ancilla;\n",
    "\n",
    "def cat_prep() {\n",
    "    bit res = 1;\n",
    "    while(res != 0) {\n",
    "        reset state[0];\n",
    "        res = 0;\n",
    "        h state[0];\n",
    "\n",
    "        // QASM loops supported\n",
    "        for int i in [1:(size-1)] {\n",
    "            reset state[i];\n",
    "            cx state[0], state[i];\n",
    "        }\n",
    "\n",
    "        // Parity check\n",
    "        reset ancilla;\n",
    "        {   // Fails check\n",
    "            cx state[1], ancilla;\n",
    "            cx state[2], ancilla;\n",
    "        }\n",
    "\n",
    "        /*\n",
    "        {   //passes check\n",
    "            cx state[2], ancilla;\n",
    "            cx state[3], ancilla;\n",
    "        }*/\n",
    "        res = measure ancilla;\n",
    "    }\n",
    "}\n",
    "\"\"\".replace(\"__NUM_QUBITS__\", str(num_qubits))\n",
    "\n",
    "res = ft_check(code, circuit, \"cat_prep\", \"prepare\", num_ancilla=1)\n",
    "\n",
    "print(res)"
   ]
  }
 ],
 "metadata": {
  "kernelspec": {
   "display_name": "ucc-ft",
   "language": "python",
   "name": "python3"
  },
  "language_info": {
   "codemirror_mode": {
    "name": "ipython",
    "version": 3
   },
   "file_extension": ".py",
   "mimetype": "text/x-python",
   "name": "python",
   "nbconvert_exporter": "python",
   "pygments_lexer": "ipython3",
   "version": "3.12.7"
  }
 },
 "nbformat": 4,
 "nbformat_minor": 5
}
