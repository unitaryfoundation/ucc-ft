{
 "cells": [
  {
   "cell_type": "code",
   "execution_count": 1,
   "id": "8f3e1760",
   "metadata": {},
   "outputs": [
    {
     "name": "stdout",
     "output_type": "stream",
     "text": [
      "Detected IPython. Loading juliacall extension. See https://juliapy.github.io/PythonCall.jl/stable/compat/#IPython\n"
     ]
    }
   ],
   "source": [
    "from ucc_ft.checker import ft_check\n",
    "from ucc_ft.codes import CatStateCode"
   ]
  },
  {
   "cell_type": "markdown",
   "id": "cf957122",
   "metadata": {},
   "source": [
    "This notebook demonstrates finding a circuit error on a small example. In this case, we consider a cat state preparation circuit. Although not a gadget for an error correcting code, we can still definite its fault-tolerance up to an allowed number of faults in the prepared state. "
   ]
  },
  {
   "cell_type": "code",
   "execution_count": 2,
   "id": "c7792b6c",
   "metadata": {},
   "outputs": [
    {
     "data": {
      "text/plain": [
       "[stim.PauliString(\"+ZZ\"), stim.PauliString(\"+_ZZ\"), stim.PauliString(\"+__ZZ\")]"
      ]
     },
     "execution_count": 2,
     "metadata": {},
     "output_type": "execute_result"
    }
   ],
   "source": [
    "num_qubits = 4\n",
    "max_faults = 2\n",
    "code = CatStateCode(num_qubits, max_faults)\n",
    "\n",
    "code.stabilizers()"
   ]
  },
  {
   "cell_type": "code",
   "execution_count": 3,
   "id": "4702c9af",
   "metadata": {},
   "outputs": [
    {
     "name": "stderr",
     "output_type": "stream",
     "text": [
      "Precompiling QuantumSE...\n",
      "   1487.1 ms  ✓ QuantumSE\n",
      "  1 dependency successfully precompiled in 2 seconds. 65 already precompiled.\n"
     ]
    },
    {
     "name": "stdout",
     "output_type": "stream",
     "text": [
      "shape: (4, 8)\n",
      "shape: (4, 8)\n",
      ">>> 0 set_source_line(10)\n",
      ">>> 0 set_source_line(12)\n",
      "1\n",
      ">>> 1 INIT target_qubit=1\n",
      ">>> 1 set_source_line(14)\n",
      "2\n",
      ">>> 3 H target_qubit=1\n",
      ">>> 3 set_source_line(18)\n",
      "3\n",
      ">>> 4 INIT target_qubit=2\n",
      ">>> 4 set_source_line(19)\n",
      "4\n",
      ">>> 8 CNOT target_qubit1=1, target_qubit2=2\n",
      ">>> 8 set_source_line(18)\n",
      "5\n",
      ">>> 9 INIT target_qubit=3\n",
      ">>> 9 set_source_line(19)\n",
      "6\n",
      ">>> 13 CNOT target_qubit1=1, target_qubit2=3\n",
      ">>> 13 set_source_line(18)\n",
      "7\n",
      ">>> 14 INIT target_qubit=4\n",
      ">>> 14 set_source_line(19)\n",
      "8\n",
      ">>> 18 CNOT target_qubit1=1, target_qubit2=4\n",
      ">>> 18 set_source_line(23)\n",
      "9\n",
      ">>> 19 INIT target_qubit=5\n",
      ">>> 19 set_source_line(25)\n",
      "10\n",
      ">>> 23 CNOT target_qubit1=2, target_qubit2=5\n",
      ">>> 23 set_source_line(26)\n",
      "11\n",
      ">>> 27 CNOT target_qubit1=3, target_qubit2=5\n",
      ">>> 27 set_source_line(34)\n",
      "12\n",
      ">>> 28 DestructiveM target_qubit=5, sym_name=DestructiveM_cat_prep_5_1\n"
     ]
    },
    {
     "name": "stderr",
     "output_type": "stream",
     "text": [
      "[ Info: '`bitwuzla -rwl 1`' is used as smt solver for FT_condition case\n",
      "[ Info: '`bitwuzla -rwl 1`' has solved the problem\n",
      "[ Info: The assignment that generates the bug has been written to ./_temp_check_FT_condition_.output\n"
     ]
    },
    {
     "name": "stdout",
     "output_type": "stream",
     "text": [
      ">>> Fail!\n",
      "Circuit is not fault tolerant.\n",
      "Error cause: None\n"
     ]
    }
   ],
   "source": [
    "circuit = \"\"\"\n",
    "OPENQASM 3.0;\n",
    "include \"stdgates.inc\";\n",
    "\n",
    "const uint size = __NUM_QUBITS__;\n",
    "qubit[size] state;\n",
    "qubit ancilla;\n",
    "\n",
    "def cat_prep() {\n",
    "    bit res = 1;\n",
    "    while(res != 0) {\n",
    "        reset state[0];\n",
    "        res = 0;\n",
    "        h state[0];\n",
    "\n",
    "        // QASM loops supported\n",
    "        for int i in [1:(size-1)] {\n",
    "            reset state[i];\n",
    "            cx state[0], state[i];\n",
    "        }\n",
    "\n",
    "        // Parity check\n",
    "        reset ancilla;\n",
    "        {   // Fails check\n",
    "            cx state[1], ancilla;\n",
    "            cx state[2], ancilla;\n",
    "        }\n",
    "\n",
    "        /*\n",
    "        {   //passes check\n",
    "            cx state[2], ancilla;\n",
    "            cx state[3], ancilla;\n",
    "        }*/\n",
    "        res = measure ancilla;\n",
    "    }\n",
    "}\n",
    "\"\"\".replace(\"__NUM_QUBITS__\", str(num_qubits))\n",
    "\n",
    "res = ft_check(code, circuit, \"cat_prep\", \"prepare\", num_ancilla=1)\n",
    "\n",
    "if not res.is_ft:\n",
    "    print(\"Circuit is not fault tolerant.\")\n",
    "    print(f\"Error cause: {res.error_cause}\")"
   ]
  },
  {
   "cell_type": "code",
   "execution_count": null,
   "id": "a345031f",
   "metadata": {},
   "outputs": [
    {
     "name": "stdout",
     "output_type": "stream",
     "text": [
      "__qubit_count = 0\n",
      "const size = 4;\n",
      "state = [i + __qubit_count for i in 1:(size)]\n",
      "__qubit_count += size;\n",
      "ancilla = __qubit_count + 1 \n",
      "__qubit_count += 1;\n",
      "@qprog cat_prep ( ) begin\n",
      "\n",
      "  set_source_line(10);\n",
      "  res = bv_val(ctx, 1, 1);\n",
      "  @repeat begin \n",
      "    set_source_line(12);\n",
      "    INIT(state[( 0 ) + 1 ]);\n",
      "    res = 0;\n",
      "    set_source_line(14);\n",
      "    H(state[( 0 ) + 1 ]);\n",
      "    for i in (1):((size - 1)) \n",
      "      set_source_line(18);\n",
      "      INIT(state[( i ) + 1 ]);\n",
      "      set_source_line(19);\n",
      "      CNOT(state[( 0 ) + 1 ], state[( i ) + 1 ]);\n",
      "    end\n",
      "    set_source_line(23);\n",
      "    INIT(ancilla);\n",
      "    \n",
      "      set_source_line(25);\n",
      "      CNOT(state[( 1 ) + 1 ], ancilla);\n",
      "      set_source_line(26);\n",
      "      CNOT(state[( 2 ) + 1 ], ancilla);\n",
      "    \n",
      "    set_source_line(34);\n",
      "    res = DestructiveM(ancilla);\n",
      "  end :until (res == bv_val(ctx,0,1))\n",
      "end\n",
      "\n"
     ]
    }
   ],
   "source": [
    "from ucc_ft.checker import qasm_to_qprog_source\n",
    "\n",
    "print(qasm_to_qprog_source(circuit))\n",
    "\n",
    "# TODO\n",
    "# R eturn tem_check_FT_condition.output path to python\n",
    "# Python parses and maps the source lines/error conditions\n",
    "# Remember a -1 could be initial injected error\n",
    "# Suppress print output of symbolic execution\n"
   ]
  },
  {
   "cell_type": "code",
   "execution_count": null,
   "id": "6b743b5e",
   "metadata": {},
   "outputs": [],
   "source": []
  }
 ],
 "metadata": {
  "kernelspec": {
   "display_name": "ucc-ft",
   "language": "python",
   "name": "python3"
  },
  "language_info": {
   "codemirror_mode": {
    "name": "ipython",
    "version": 3
   },
   "file_extension": ".py",
   "mimetype": "text/x-python",
   "name": "python",
   "nbconvert_exporter": "python",
   "pygments_lexer": "ipython3",
   "version": "3.12.7"
  }
 },
 "nbformat": 4,
 "nbformat_minor": 5
}
