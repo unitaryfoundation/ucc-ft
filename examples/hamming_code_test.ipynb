{
 "cells": [
  {
   "cell_type": "code",
   "execution_count": null,
   "id": "02d9a7f6",
   "metadata": {},
   "outputs": [],
   "source": [
    "from ucc_ft.hamming import HammingCode\n",
    "from ucc_ft.checker import ft_check_ideal_qasm"
   ]
  },
  {
   "cell_type": "markdown",
   "id": "4d4959ca",
   "metadata": {},
   "source": [
    "This notebook demonstrates how `ucc-ft` is used to verify the fault tolerance of the circuit gadgets in https://www.nature.com/articles/s41534-018-0085-z, particularly those using the quantum Hamming code, i.e. a $[[2^{r} - 1, 2^{r} - 2r - 1, 3]]$ code."
   ]
  },
  {
   "cell_type": "code",
   "execution_count": null,
   "id": "8ec3f0cd",
   "metadata": {},
   "outputs": [],
   "source": [
    "# Quantum error correcting code: [2^r - 1, 2^r - 2r - 1, 3]\n",
    "hc = HammingCode(size=4)  # r = 4\n",
    "hc.stabilizers()  # show the stabilizers for reference"
   ]
  },
  {
   "cell_type": "markdown",
   "id": "cb86d909",
   "metadata": {},
   "source": [
    "Let's start by checking the CNOT gate for this code, which is just implemented transversally.\n",
    "\n",
    "First, let's load the QASM for that gate:"
   ]
  },
  {
   "cell_type": "code",
   "execution_count": 3,
   "id": "7589c89a",
   "metadata": {},
   "outputs": [],
   "source": [
    "cnot_circuit = \"\"\"\n",
    "    OPENQASM 3.0;\n",
    "    include \"stdgates.inc\";\n",
    "\n",
    "    const uint r = 4;\n",
    "    const uint data_size = 2**r - 2*r -1;\n",
    "    qubit[data_size] state1;\n",
    "    qubit[data_size] state2;\n",
    "\n",
    "    def logical_CNOT() {\n",
    "        // QASM ranges are inclusive for both start and end\n",
    "        for int i in [0:(data_size-1)] {\n",
    "            cx state1[i], state2[i];\n",
    "        }\n",
    "    }\n",
    "    \"\"\""
   ]
  },
  {
   "cell_type": "markdown",
   "id": "e39cd354",
   "metadata": {},
   "source": [
    "Now run the checker on that gate for this code:"
   ]
  },
  {
   "cell_type": "code",
   "execution_count": null,
   "id": "e8413e19",
   "metadata": {},
   "outputs": [],
   "source": [
    "ft_check_ideal_qasm(hc, cnot_circuit, \"logical_CNOT\", \"gate\")"
   ]
  }
 ],
 "metadata": {
  "kernelspec": {
   "display_name": ".venv",
   "language": "python",
   "name": "python3"
  },
  "language_info": {
   "codemirror_mode": {
    "name": "ipython",
    "version": 3
   },
   "file_extension": ".py",
   "mimetype": "text/x-python",
   "name": "python",
   "nbconvert_exporter": "python",
   "pygments_lexer": "ipython3",
   "version": "3.12.7"
  }
 },
 "nbformat": 4,
 "nbformat_minor": 5
}
