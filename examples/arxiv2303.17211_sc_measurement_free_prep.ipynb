{
 "cells": [
  {
   "cell_type": "code",
   "execution_count": 2,
   "id": "3f2fe01f",
   "metadata": {},
   "outputs": [
    {
     "name": "stdout",
     "output_type": "stream",
     "text": [
      "Detected IPython. Loading juliacall extension. See https://juliapy.github.io/PythonCall.jl/stable/compat/#IPython\n"
     ]
    }
   ],
   "source": [
    "import stim\n",
    "from stim import PauliString, Tableau\n",
    "from typing import List\n",
    "from ucc_ft.checker import ft_check_ideal_qasm"
   ]
  },
  {
   "cell_type": "markdown",
   "id": "8e5a5ae3",
   "metadata": {},
   "source": [
    "This notebook applies the checker the state preparation circuit in \"Measurement-free fault-tolerant logical zero-state encoding of the distance-three nine-qubit surface code in a one-dimensional qubit array\" by Goto et. al [arxiv:2303.17211](http://arxiv.org/abs/2303.17211). As we will see, this paper has a slightly different definition of fault tolerance than this paper, and will be a useful example to consider any future extensions of the fault-checker tool.\n",
    "\n",
    "The key image in the paper is:\n",
    "\n",
    "![state preparation](fig-encoder.png)\n",
    "\n",
    "It shows the state preparation circuit in figure (c), alongside the stabilizers at each step of the circuit execution. Note that gates within a step commute with each other.\n",
    "\n",
    "\n",
    "To use `ucc-ft`,  we start by defining the stabilizers and logical operators used in the paper. Rather than using the arbitrary $d$ surface code class in `ucc_ft`, we just define the code explicitly for $d=3$ from the image above:"
   ]
  },
  {
   "cell_type": "code",
   "execution_count": 3,
   "id": "ad2df56a",
   "metadata": {},
   "outputs": [],
   "source": [
    "class RotatedSurfaceCodeFromPaper:\n",
    "    \"\"\"\n",
    "    Just explicit version of the rotated surface code from the paper\n",
    "    \"\"\"\n",
    "\n",
    "    def __init__(self):\n",
    "        self.d = 3\n",
    "\n",
    "    @property\n",
    "    def num_qubits(self) -> int:\n",
    "        \"\"\"Return the number of qubits in the rotated surface code of distance d.\"\"\"\n",
    "        return self.d * self.d\n",
    "\n",
    "    def stabilizers(self) -> List[PauliString]:\n",
    "        return [\n",
    "            PauliString(\"Z5*Z6\"),\n",
    "            PauliString(\"Z0*Z1*Z4*Z5\"),\n",
    "            PauliString(\"Z3*Z4*Z7*Z8\"),\n",
    "            PauliString(\"Z2*Z3\"),\n",
    "            PauliString(\"X0*X1\"),\n",
    "            PauliString(\"X1*X2*X3*X4\"),\n",
    "            PauliString(\"X4*X5*X6*X7\"),\n",
    "            PauliString(\"X7*X8\"),\n",
    "        ]\n",
    "\n",
    "    def logical_x(self) -> PauliString:\n",
    "        \"\"\"Return the logical X operator for the rotated surface code of distance d.\"\"\"\n",
    "        return PauliString(\"X0*X5*X6\")\n",
    "\n",
    "    def logical_z(self) -> PauliString:\n",
    "        \"\"\"Return the logical Z operator for the rotated surface code of distance d.\"\"\"\n",
    "        return PauliString(\"Z0*Z1*Z2\")\n",
    "\n",
    "    def logical_prep_stabilizer(self) -> PauliString:\n",
    "        \"\"\"The prepared state is |0>_L, the +1 eigenstate of the logical Z operator.\"\"\"\n",
    "        return self.logical_z()\n",
    "\n",
    "    def physical_z_stabilizers(self) -> List[PauliString]:\n",
    "        \"\"\"Return the physical Z operator for the rotated surface code of distance d.\"\"\"\n",
    "        return [PauliString(f\"Z{idx}\") for idx in range(self.num_qubits)]"
   ]
  },
  {
   "cell_type": "code",
   "execution_count": 4,
   "id": "eb5cdf78",
   "metadata": {},
   "outputs": [
    {
     "data": {
      "text/plain": [
       "[stim.PauliString(\"+_____ZZ\"),\n",
       " stim.PauliString(\"+ZZ__ZZ\"),\n",
       " stim.PauliString(\"+___ZZ__ZZ\"),\n",
       " stim.PauliString(\"+__ZZ\"),\n",
       " stim.PauliString(\"+XX\"),\n",
       " stim.PauliString(\"+_XXXX\"),\n",
       " stim.PauliString(\"+____XXXX\"),\n",
       " stim.PauliString(\"+_______XX\")]"
      ]
     },
     "execution_count": 4,
     "metadata": {},
     "output_type": "execute_result"
    }
   ],
   "source": [
    "sc = RotatedSurfaceCodeFromPaper()\n",
    "sc.stabilizers()"
   ]
  },
  {
   "cell_type": "markdown",
   "id": "5aacb6ab",
   "metadata": {},
   "source": [
    "Now, let's take a a look at the preparation circuit, defined in QASM. "
   ]
  },
  {
   "cell_type": "code",
   "execution_count": 5,
   "id": "ee598f5b",
   "metadata": {},
   "outputs": [],
   "source": [
    "qasm = \"\"\"\n",
    "OPENQASM 3.0;\n",
    "include \"stdgates.inc\";\n",
    "\n",
    "qubit[9] data;\n",
    "\n",
    "// Subroutine to do the state preperation circuit in Fig1c\n",
    "def prepare_state() {\n",
    "\n",
    "    // Step 0 in Fig1c\n",
    "    for int i in [0:8] {\n",
    "        reset data[i];\n",
    "    }\n",
    "\n",
    "    for int i in [1:2:8] {\n",
    "        h data[i];\n",
    "    }\n",
    "\n",
    "    // Step 1 in Fig1c\n",
    "    cx data[1], data[0];\n",
    "    cx data[3], data[2];\n",
    "    cx data[5], data[4];\n",
    "    cx data[7], data[8];\n",
    "    cx data[3], data[4];\n",
    "    cx data[5], data[6];\n",
    "\n",
    "    // Step 2 in Fig1c\n",
    "    cx data[2], data[1];\n",
    "    cx data[6], data[7];\n",
    "\n",
    "}\n",
    "\"\"\""
   ]
  },
  {
   "cell_type": "markdown",
   "id": "e3da5e88",
   "metadata": {},
   "source": [
    "We can now run the checker to verify this gadget is fault-tolerant:"
   ]
  },
  {
   "cell_type": "code",
   "execution_count": 6,
   "id": "a6dc96ec",
   "metadata": {},
   "outputs": [
    {
     "name": "stdout",
     "output_type": "stream",
     "text": [
      "shape: (9, 18)\n",
      "shape: (9, 18)\n",
      "1\n",
      ">>> 1 INIT target_qubit=1\n",
      "2\n",
      ">>> 2 INIT target_qubit=2\n",
      "3\n",
      ">>> 3 INIT target_qubit=3\n",
      "4\n",
      ">>> 4 INIT target_qubit=4\n",
      "5\n",
      ">>> 5 INIT target_qubit=5\n",
      "6\n",
      ">>> 6 INIT target_qubit=6\n",
      "7\n",
      ">>> 7 INIT target_qubit=7\n",
      "8\n",
      ">>> 8 INIT target_qubit=8\n",
      "9\n",
      ">>> 9 INIT target_qubit=9\n",
      "10\n",
      ">>> 11 H target_qubit=2\n",
      "11\n",
      ">>> 13 H target_qubit=4\n",
      "12\n",
      ">>> 15 H target_qubit=6\n",
      "13\n",
      ">>> 17 H target_qubit=8\n",
      "14\n",
      ">>> 21 CNOT target_qubit1=2, target_qubit2=1\n",
      "15\n",
      ">>> 25 CNOT target_qubit1=4, target_qubit2=3\n",
      "16\n",
      ">>> 29 CNOT target_qubit1=6, target_qubit2=5\n",
      "17\n",
      ">>> 33 CNOT target_qubit1=8, target_qubit2=9\n",
      "18\n",
      ">>> 37 CNOT target_qubit1=4, target_qubit2=5\n",
      "19\n",
      ">>> 41 CNOT target_qubit1=6, target_qubit2=7\n",
      "20\n",
      ">>> 45 CNOT target_qubit1=3, target_qubit2=2\n",
      "21\n",
      ">>> 49 CNOT target_qubit1=7, target_qubit2=8\n",
      ">>> Fail!\n"
     ]
    },
    {
     "name": "stderr",
     "output_type": "stream",
     "text": [
      "[ Info: '`bitwuzla -rwl 1`' is used as smt solver for FT_condition case\n",
      "[ Info: '`bitwuzla -rwl 1`' has solved the problem\n",
      "[ Info: The assignment that generates the bug has been written to ./_temp_check_FT_condition_.output\n"
     ]
    },
    {
     "data": {
      "text/plain": [
       "False"
      ]
     },
     "execution_count": 6,
     "metadata": {},
     "output_type": "execute_result"
    }
   ],
   "source": [
    "ft_check_ideal_qasm(sc, qasm, \"prepare_state\", \"prepare\", num_ancilla=0)"
   ]
  },
  {
   "cell_type": "markdown",
   "id": "a8c06760",
   "metadata": {},
   "source": [
    "The checker returned `False` indicating it found a set of errors that breaks the fault tolerance requirements! This seems like a contradiction with the results in the paper, so let's dig a little further.\n",
    "\n",
    "For now, we can manually look at the output file of the SMT run to find the error assignments:"
   ]
  },
  {
   "cell_type": "code",
   "execution_count": 7,
   "id": "5cd9d1c1",
   "metadata": {},
   "outputs": [
    {
     "name": "stdout",
     "output_type": "stream",
     "text": [
      "  (define-fun nerrs_compact () (_ BitVec 1) #b1)\n",
      "  (define-fun symb_Zerror_Q8_49 () (_ BitVec 1) #b1)\n",
      "  (define-fun symb_Xerror_Q7_46 () (_ BitVec 1) #b1)\n",
      "  (define-fun symb_Zerror_Q7_47 () (_ BitVec 1) #b1)\n",
      "  (define-fun nerrs_all_compact () (_ BitVec 1) #b1)\n"
     ]
    }
   ],
   "source": [
    "!grep b1 _temp_check_FT_condition_.output"
   ]
  },
  {
   "cell_type": "markdown",
   "id": "dbbae41b",
   "metadata": {},
   "source": [
    "These are all 1-bit vectors (the `( _ BitVec 1)`) that are assigned `1` (the `#b1`). All other variables in the solution have value 0.\n",
    "\n",
    "The `nerrs_compact` and `nerrs_all_compact` confirms there was 1 error, which this distance 3 code should be able to handle. \n",
    "\n",
    "The remaining 3 variables are Z or X paulis, on qubit 7 or 8, and were the 46,47 and 49th injected Pauli error when running the circuit. The trace output above prints the current number of injected Paulis at each operation. So focusing on the last two operations \n",
    "\n",
    "```\n",
    ">>> 45 CNOT target_qubit1=3, target_qubit2=2\n",
    "21\n",
    ">>> 49 CNOT target_qubit1=7, target_qubit2=8\n",
    "```\n",
    "\n",
    "shows the error was part of the last CNOT gate, and corresponds to an `X and Z` error on qubit 7 and a `Z` error on qubit 8. Note that even though this was expressed as 3 pauli injected errors, this correspond to one faulty operation (the CNOT), hence why it should be handled by the distance 3 code to be fault tolerance.\n",
    "\n",
    "\n",
    "So the dilemma --this ssure looks like a weight-2 error, so how did the paper claim fault tolerance? Well, it turns out this weight-2 error is correctable by the code. \n",
    "\n",
    "First, looking back at the stabilizers, we see as a CSS code, each stabilizer is either all $X$ or all $Z$ operators and each is able to detect errors of the other variety (i.e. $X$ stabilizers detects phase errors $Z$). But these checks are independent, so they can be jointly detected and corrected. In other words, this means that any product of single $X$ and a single $Z$ error is correctable even if together that is a weight-2 error. The error here (ignoring the irrelevant global phase) is $X_7 Z_7 Z_8$. So the $X_7$ can be handled. \n",
    "\n",
    "What about $Z_7 Z_8$? This looks a two-qubit error that is not separable into single qubit errors. Well, turns out it is equivalent to a single-qubit error under this code. An error $E$ is equivalent to an error $E'$ if it's action on the stabilized state is the same, e.g. $E\\psi\\rangle = E'\\psi\\rangle$. If $E = P_i P_j$ on qubits $i$ and $j$, $E'=P_k$ could be a weight-1 error on qubit $k$ if we can find an operator $S$ of the stabilizer group such that $ES = E'$,\n",
    "\n",
    "$$\n",
    "P_iP_j |\\psi\\rangle = P_iP_j S |\\psi\\rangle = P_k |\\psi\\rangle\n",
    "$$\n",
    "From the stabilizers above, we see this is true for the last stabilizer $S = Z_7 Z_8 Z_9$. So $Z_7Z_8$ is equilavent to a $Z_9$ error on this code, and can be corrected alongside the $X_7$ error.\n",
    "\n",
    "So why did the fault checker flag this? Let's go back to the definition of fault tolerance used by the checker. From Definition 6.1 in the fault checker [paper](http://arxiv.org/abs/2501.14380), a state preparation circuit gadget is fault tolerant if for any $s$-fault instantiation of the gadget such that $s \\leq t$, the prepared state has at most $s$ errors. Here $t=1$, $s=1$ (just one faulty CNOT), but the prepared state has 2 errors. Even though the $t=1$ code _can_ correct the two errors in this case, that is not the definition used in the checker, which focuses purely on error propagation relative to $t$. This makes sense as a conservative approach, where each gadget independently conforms to the single threshold of the code.\n",
    "\n",
    "Perhaps a future direction for the tool is to consider alternate definitions for fault tolerance to treat this case differently.\n"
   ]
  }
 ],
 "metadata": {
  "kernelspec": {
   "display_name": ".venv",
   "language": "python",
   "name": "python3"
  },
  "language_info": {
   "codemirror_mode": {
    "name": "ipython",
    "version": 3
   },
   "file_extension": ".py",
   "mimetype": "text/x-python",
   "name": "python",
   "nbconvert_exporter": "python",
   "pygments_lexer": "ipython3",
   "version": "3.12.7"
  }
 },
 "nbformat": 4,
 "nbformat_minor": 5
}
