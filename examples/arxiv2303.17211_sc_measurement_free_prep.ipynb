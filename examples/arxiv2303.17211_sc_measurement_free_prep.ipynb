{
 "cells": [
  {
   "cell_type": "code",
   "execution_count": 1,
   "id": "3f2fe01f",
   "metadata": {},
   "outputs": [
    {
     "name": "stdout",
     "output_type": "stream",
     "text": [
      "Detected IPython. Loading juliacall extension. See https://juliapy.github.io/PythonCall.jl/stable/compat/#IPython\n"
     ]
    }
   ],
   "source": [
    "from stim import PauliString\n",
    "from typing import List\n",
    "from ucc_ft.checker import ft_check"
   ]
  },
  {
   "cell_type": "markdown",
   "id": "8e5a5ae3",
   "metadata": {},
   "source": [
    "This notebook applies the checker the state preparation circuit in \"Measurement-free fault-tolerant logical zero-state encoding of the distance-three nine-qubit surface code in a one-dimensional qubit array\" by Goto et. al [arxiv:2303.17211](http://arxiv.org/abs/2303.17211). As we will see, this paper has a slightly different definition of fault tolerance than the checker tool, and will be a useful example to consider any future extensions of the fault-checker tool.\n",
    "\n",
    "The key image in the paper is:\n",
    "\n",
    "![state preparation](fig-encoder.png)\n",
    "\n",
    "It shows the state preparation circuit in figure (c), alongside the stabilizers at each step of the circuit execution. Note that gates within a step commute with each other.\n",
    "\n",
    "\n",
    "To use `ucc-ft`,  we start by defining the stabilizers and logical operators used in the paper. Rather than using the arbitrary $d$ surface code class in `ucc_ft`, we just define the code explicitly for $d=3$ from the image above:"
   ]
  },
  {
   "cell_type": "code",
   "execution_count": 2,
   "id": "ad2df56a",
   "metadata": {},
   "outputs": [],
   "source": [
    "class RotatedSurfaceCodeFromPaper:\n",
    "    \"\"\"\n",
    "    Just explicit version of the rotated surface code from the paper\n",
    "    \"\"\"\n",
    "\n",
    "    def __init__(self):\n",
    "        self.d = 3\n",
    "\n",
    "    @property\n",
    "    def num_qubits(self) -> int:\n",
    "        \"\"\"Return the number of qubits in the rotated surface code of distance d.\"\"\"\n",
    "        return self.d * self.d\n",
    "\n",
    "    def stabilizers(self) -> List[PauliString]:\n",
    "        return [\n",
    "            PauliString(\"Z5*Z6\"),\n",
    "            PauliString(\"Z0*Z1*Z4*Z5\"),\n",
    "            PauliString(\"Z3*Z4*Z7*Z8\"),\n",
    "            PauliString(\"Z2*Z3\"),\n",
    "            PauliString(\"X0*X1\"),\n",
    "            PauliString(\"X1*X2*X3*X4\"),\n",
    "            PauliString(\"X4*X5*X6*X7\"),\n",
    "            PauliString(\"X7*X8\"),\n",
    "        ]\n",
    "\n",
    "    def logical_x(self) -> PauliString:\n",
    "        \"\"\"Return the logical X operator for the rotated surface code of distance d.\"\"\"\n",
    "        return PauliString(\"X0*X5*X6\")\n",
    "\n",
    "    def logical_z(self) -> PauliString:\n",
    "        \"\"\"Return the logical Z operator for the rotated surface code of distance d.\"\"\"\n",
    "        return PauliString(\"Z0*Z1*Z2\")\n",
    "\n",
    "    def logical_prep_stabilizer(self) -> PauliString:\n",
    "        \"\"\"The prepared state is |0>_L, the +1 eigenstate of the logical Z operator.\"\"\"\n",
    "        return self.logical_z()\n",
    "\n",
    "    def physical_z_stabilizers(self) -> List[PauliString]:\n",
    "        \"\"\"Return the physical Z operator for the rotated surface code of distance d.\"\"\"\n",
    "        return [PauliString(f\"Z{idx}\") for idx in range(self.num_qubits)]"
   ]
  },
  {
   "cell_type": "code",
   "execution_count": 3,
   "id": "eb5cdf78",
   "metadata": {},
   "outputs": [
    {
     "data": {
      "text/plain": [
       "[stim.PauliString(\"+_____ZZ\"),\n",
       " stim.PauliString(\"+ZZ__ZZ\"),\n",
       " stim.PauliString(\"+___ZZ__ZZ\"),\n",
       " stim.PauliString(\"+__ZZ\"),\n",
       " stim.PauliString(\"+XX\"),\n",
       " stim.PauliString(\"+_XXXX\"),\n",
       " stim.PauliString(\"+____XXXX\"),\n",
       " stim.PauliString(\"+_______XX\")]"
      ]
     },
     "execution_count": 3,
     "metadata": {},
     "output_type": "execute_result"
    }
   ],
   "source": [
    "sc = RotatedSurfaceCodeFromPaper()\n",
    "sc.stabilizers()"
   ]
  },
  {
   "cell_type": "markdown",
   "id": "5aacb6ab",
   "metadata": {},
   "source": [
    "Now, let's take a a look at the preparation circuit, defined in QASM. "
   ]
  },
  {
   "cell_type": "code",
   "execution_count": 4,
   "id": "ee598f5b",
   "metadata": {},
   "outputs": [],
   "source": [
    "qasm = \"\"\"\n",
    "OPENQASM 3.0;\n",
    "include \"stdgates.inc\";\n",
    "\n",
    "qubit[9] data;\n",
    "\n",
    "// Subroutine to do the state preparation circuit in Fig1c\n",
    "def prepare_state() {\n",
    "\n",
    "    // Step 0 in Fig1c\n",
    "    for int i in [0:8] {\n",
    "        reset data[i];\n",
    "    }\n",
    "\n",
    "    for int i in [1:2:8] {\n",
    "        h data[i];\n",
    "    }\n",
    "\n",
    "    // Step 1 in Fig1c\n",
    "    cx data[1], data[0];\n",
    "    cx data[3], data[2];\n",
    "    cx data[5], data[4];\n",
    "    cx data[7], data[8];\n",
    "    cx data[3], data[4];\n",
    "    cx data[5], data[6];\n",
    "\n",
    "    // Step 2 in Fig1c\n",
    "    cx data[2], data[1];\n",
    "    cx data[6], data[7];\n",
    "\n",
    "}\n",
    "\"\"\""
   ]
  },
  {
   "cell_type": "markdown",
   "id": "e3da5e88",
   "metadata": {},
   "source": [
    "We can now run the checker to verify this gadget is fault-tolerant:"
   ]
  },
  {
   "cell_type": "code",
   "execution_count": 5,
   "id": "a6dc96ec",
   "metadata": {},
   "outputs": [
    {
     "name": "stdout",
     "output_type": "stream",
     "text": [
      "Circuit is not fault-tolerant. Fault-tolerant error locations:\n",
      "[Line  29] Z-Pauli error on Qubit 7\n",
      "[Line  29] X-Pauli error on Qubit 6\n",
      "[Line  29] Z-Pauli error on Qubit 6\n"
     ]
    }
   ],
   "source": [
    "res = ft_check(sc, qasm, \"prepare_state\", \"prepare\", num_ancilla=0)\n",
    "print(res)"
   ]
  },
  {
   "cell_type": "markdown",
   "id": "dbbae41b",
   "metadata": {},
   "source": [
    "The checker returned `False`, indicating the circuit fails the fault tolerance requirements! This seems like a contradiction with the results in the paper, so let's dig a little further. We see that the checker found that 3 injected errors that broke fault tolerance came after the last CNOT gate, and correspond to an `X` and `Z` error on qubit 6 and a `Z` error on qubit 7. Note that even though these are two qubits with errors, this correspond to one faulty operation (the CNOT). From the strict fault tolerance definition used by the checker, for this distance 3 code, 1 fault cannot lead to more than 1 error on the state.\n",
    "\n",
    "So the dilemma --this looks like a weight-2 error, so how did the paper claim fault tolerance? Well, it turns out this weight-2 error is correctable by the code. \n",
    "\n",
    "First, looking back at the stabilizers, we see as a CSS code, each stabilizer is either all $X$ or all $Z$ operators and each is able to detect errors of the other variety (i.e. $X$ stabilizers detects phase errors $Z$). But these checks are independent, so they can be jointly detected and corrected. In other words, this means that any product of single $X$ and a single $Z$ error is correctable even if together that is a weight-2 error. The error here (ignoring the irrelevant global phase) is $X_6 Z_6 Z_7$. So the $X_6$ can be handled by itself.\n",
    "\n",
    "What about $Z_6 Z_7$? This looks a correlated two-qubit error that is not separable into single qubit errors. Well, turns out it is equivalent to a single-qubit error under this code. An error $E$ is equivalent to an error $E'$ if it's action on the stabilized state is the same, $E\\psi\\rangle = E'\\psi\\rangle$. If $E = P_i P_j$ on qubits $i$ and $j$, $E'=P_k$ could be an equivalent weight-1 error on qubit $k$ if we can find an operator $S$ of the stabilizer group such that $ES = E'$,\n",
    "\n",
    "$$\n",
    "P_iP_j |\\psi\\rangle = P_iP_j S |\\psi\\rangle = P_k |\\psi\\rangle\n",
    "$$\n",
    "From the stabilizers above, we see this is true for the last stabilizer $S = Z_6 Z_7 Z_8$. So $Z_6Z_7$ is equilavent to a $Z_8$ error on this code, and can be corrected alongside the $X_6$ error. Note we've switched to 0-based qubit indicices in this paragraph, versus the 1-based indices in the paper.\n",
    "\n",
    "So why did the fault checker flag this? Let's go back to the definition of fault tolerance used by the checker. From Definition 6.1 in the fault checker [paper](http://arxiv.org/abs/2501.14380), a state preparation circuit gadget is fault tolerant if for any $s$-fault instantiation of the gadget such that $s \\leq t$, the prepared state has at most $s$ errors. Here $t=1$, $s=1$ (just one faulty CNOT), but the prepared state has 2 errors. Even though the $t=1$ code _can_ correct the two errors in this case, that is not the definition used in the checker, which focuses purely on error propagation relative to $t$. This makes sense as a conservative approach, where each gadget independently conforms to the single threshold of the code.\n",
    "\n",
    "A future direction for the tool is to consider alternate definitions for fault tolerance to treat this case differently.\n"
   ]
  },
  {
   "cell_type": "markdown",
   "id": "2dfb1274",
   "metadata": {},
   "source": []
  }
 ],
 "metadata": {
  "kernelspec": {
   "display_name": "ucc-ft",
   "language": "python",
   "name": "python3"
  },
  "language_info": {
   "codemirror_mode": {
    "name": "ipython",
    "version": 3
   },
   "file_extension": ".py",
   "mimetype": "text/x-python",
   "name": "python",
   "nbconvert_exporter": "python",
   "pygments_lexer": "ipython3",
   "version": "3.12.7"
  }
 },
 "nbformat": 4,
 "nbformat_minor": 5
}
